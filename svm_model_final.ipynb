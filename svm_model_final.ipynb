{
 "cells": [
  {
   "cell_type": "code",
   "execution_count": 1,
   "metadata": {},
   "outputs": [],
   "source": [
    "import matplotlib.pyplot as plt\n",
    "from sklearn.neighbors import KNeighborsClassifier\n",
    "import pandas as pd\n",
    "import numpy as np\n",
    "import os\n",
    "from sklearn import metrics "
   ]
  },
  {
   "cell_type": "code",
   "execution_count": 2,
   "metadata": {},
   "outputs": [
    {
     "data": {
      "text/html": [
       "<div>\n",
       "<style scoped>\n",
       "    .dataframe tbody tr th:only-of-type {\n",
       "        vertical-align: middle;\n",
       "    }\n",
       "\n",
       "    .dataframe tbody tr th {\n",
       "        vertical-align: top;\n",
       "    }\n",
       "\n",
       "    .dataframe thead th {\n",
       "        text-align: right;\n",
       "    }\n",
       "</style>\n",
       "<table border=\"1\" class=\"dataframe\">\n",
       "  <thead>\n",
       "    <tr style=\"text-align: right;\">\n",
       "      <th></th>\n",
       "      <th>Num_CC</th>\n",
       "      <th>Dependents</th>\n",
       "      <th>Status_Checking_Acc</th>\n",
       "      <th>Credit_History</th>\n",
       "      <th>Purposre_Credit_Taken</th>\n",
       "      <th>Savings_Acc</th>\n",
       "      <th>Years_At_Present_Employment</th>\n",
       "      <th>Marital_Status_Gender</th>\n",
       "      <th>Other_Debtors_Guarantors</th>\n",
       "      <th>Other_Inst_Plans</th>\n",
       "      <th>Housing</th>\n",
       "      <th>Job</th>\n",
       "      <th>Telephone</th>\n",
       "      <th>Foreign_Worker</th>\n",
       "      <th>Duration_binned</th>\n",
       "      <th>Credit_amount_binned</th>\n",
       "      <th>Age_binned</th>\n",
       "      <th>Default_On_Payment</th>\n",
       "    </tr>\n",
       "    <tr>\n",
       "      <th>Customer_ID</th>\n",
       "      <th></th>\n",
       "      <th></th>\n",
       "      <th></th>\n",
       "      <th></th>\n",
       "      <th></th>\n",
       "      <th></th>\n",
       "      <th></th>\n",
       "      <th></th>\n",
       "      <th></th>\n",
       "      <th></th>\n",
       "      <th></th>\n",
       "      <th></th>\n",
       "      <th></th>\n",
       "      <th></th>\n",
       "      <th></th>\n",
       "      <th></th>\n",
       "      <th></th>\n",
       "      <th></th>\n",
       "    </tr>\n",
       "  </thead>\n",
       "  <tbody>\n",
       "    <tr>\n",
       "      <th>100001</th>\n",
       "      <td>2</td>\n",
       "      <td>1</td>\n",
       "      <td>A11</td>\n",
       "      <td>A34</td>\n",
       "      <td>A43</td>\n",
       "      <td>A65</td>\n",
       "      <td>A75</td>\n",
       "      <td>A93</td>\n",
       "      <td>A101</td>\n",
       "      <td>A143</td>\n",
       "      <td>A152</td>\n",
       "      <td>A173</td>\n",
       "      <td>A192</td>\n",
       "      <td>A201</td>\n",
       "      <td>B10</td>\n",
       "      <td>B20</td>\n",
       "      <td>B35</td>\n",
       "      <td>0</td>\n",
       "    </tr>\n",
       "    <tr>\n",
       "      <th>100002</th>\n",
       "      <td>1</td>\n",
       "      <td>1</td>\n",
       "      <td>A12</td>\n",
       "      <td>A32</td>\n",
       "      <td>A43</td>\n",
       "      <td>A61</td>\n",
       "      <td>A73</td>\n",
       "      <td>A92</td>\n",
       "      <td>A101</td>\n",
       "      <td>A143</td>\n",
       "      <td>A152</td>\n",
       "      <td>A173</td>\n",
       "      <td>A191</td>\n",
       "      <td>A201</td>\n",
       "      <td>B14</td>\n",
       "      <td>B22</td>\n",
       "      <td>B30</td>\n",
       "      <td>0</td>\n",
       "    </tr>\n",
       "    <tr>\n",
       "      <th>100003</th>\n",
       "      <td>1</td>\n",
       "      <td>2</td>\n",
       "      <td>A14</td>\n",
       "      <td>A34</td>\n",
       "      <td>A46</td>\n",
       "      <td>A61</td>\n",
       "      <td>A74</td>\n",
       "      <td>A93</td>\n",
       "      <td>A101</td>\n",
       "      <td>A143</td>\n",
       "      <td>A152</td>\n",
       "      <td>A172</td>\n",
       "      <td>A191</td>\n",
       "      <td>A201</td>\n",
       "      <td>B11</td>\n",
       "      <td>B20</td>\n",
       "      <td>B33</td>\n",
       "      <td>0</td>\n",
       "    </tr>\n",
       "    <tr>\n",
       "      <th>100004</th>\n",
       "      <td>1</td>\n",
       "      <td>2</td>\n",
       "      <td>A11</td>\n",
       "      <td>A32</td>\n",
       "      <td>A42</td>\n",
       "      <td>A61</td>\n",
       "      <td>A74</td>\n",
       "      <td>A93</td>\n",
       "      <td>A103</td>\n",
       "      <td>A143</td>\n",
       "      <td>A153</td>\n",
       "      <td>A173</td>\n",
       "      <td>A191</td>\n",
       "      <td>A201</td>\n",
       "      <td>B13</td>\n",
       "      <td>B23</td>\n",
       "      <td>B33</td>\n",
       "      <td>0</td>\n",
       "    </tr>\n",
       "    <tr>\n",
       "      <th>100005</th>\n",
       "      <td>2</td>\n",
       "      <td>2</td>\n",
       "      <td>A11</td>\n",
       "      <td>A33</td>\n",
       "      <td>A40</td>\n",
       "      <td>A61</td>\n",
       "      <td>A73</td>\n",
       "      <td>A93</td>\n",
       "      <td>A101</td>\n",
       "      <td>A143</td>\n",
       "      <td>A153</td>\n",
       "      <td>A173</td>\n",
       "      <td>A191</td>\n",
       "      <td>A201</td>\n",
       "      <td>B12</td>\n",
       "      <td>B21</td>\n",
       "      <td>B33</td>\n",
       "      <td>1</td>\n",
       "    </tr>\n",
       "  </tbody>\n",
       "</table>\n",
       "</div>"
      ],
      "text/plain": [
       "             Num_CC  Dependents Status_Checking_Acc Credit_History  \\\n",
       "Customer_ID                                                          \n",
       "100001            2           1                 A11            A34   \n",
       "100002            1           1                 A12            A32   \n",
       "100003            1           2                 A14            A34   \n",
       "100004            1           2                 A11            A32   \n",
       "100005            2           2                 A11            A33   \n",
       "\n",
       "            Purposre_Credit_Taken Savings_Acc Years_At_Present_Employment  \\\n",
       "Customer_ID                                                                 \n",
       "100001                        A43         A65                         A75   \n",
       "100002                        A43         A61                         A73   \n",
       "100003                        A46         A61                         A74   \n",
       "100004                        A42         A61                         A74   \n",
       "100005                        A40         A61                         A73   \n",
       "\n",
       "            Marital_Status_Gender Other_Debtors_Guarantors Other_Inst_Plans   \\\n",
       "Customer_ID                                                                    \n",
       "100001                        A93                     A101              A143   \n",
       "100002                        A92                     A101              A143   \n",
       "100003                        A93                     A101              A143   \n",
       "100004                        A93                     A103              A143   \n",
       "100005                        A93                     A101              A143   \n",
       "\n",
       "            Housing   Job Telephone Foreign_Worker Duration_binned  \\\n",
       "Customer_ID                                                          \n",
       "100001         A152  A173      A192           A201             B10   \n",
       "100002         A152  A173      A191           A201             B14   \n",
       "100003         A152  A172      A191           A201             B11   \n",
       "100004         A153  A173      A191           A201             B13   \n",
       "100005         A153  A173      A191           A201             B12   \n",
       "\n",
       "            Credit_amount_binned Age_binned  Default_On_Payment  \n",
       "Customer_ID                                                      \n",
       "100001                       B20        B35                   0  \n",
       "100002                       B22        B30                   0  \n",
       "100003                       B20        B33                   0  \n",
       "100004                       B23        B33                   0  \n",
       "100005                       B21        B33                   1  "
      ]
     },
     "execution_count": 2,
     "metadata": {},
     "output_type": "execute_result"
    }
   ],
   "source": [
    "df = pd.read_csv(os.path.join(\"NN_dataset.csv\"))\n",
    "df.set_index('Customer_ID', inplace=True)\n",
    "df.head()"
   ]
  },
  {
   "cell_type": "code",
   "execution_count": 3,
   "metadata": {},
   "outputs": [
    {
     "data": {
      "text/plain": [
       "Index(['Purposre_Credit_Taken', 'Years_At_Present_Employment',\n",
       "       'Other_Debtors_Guarantors', 'Housing', 'Telephone', 'Foreign_Worker',\n",
       "       'Duration_binned', 'Credit_amount_binned', 'Age_binned',\n",
       "       'Default_On_Payment'],\n",
       "      dtype='object')"
      ]
     },
     "execution_count": 3,
     "metadata": {},
     "output_type": "execute_result"
    }
   ],
   "source": [
    "df = df.drop(columns=['Num_CC', 'Dependents', 'Status_Checking_Acc', 'Credit_History', 'Savings_Acc', 'Marital_Status_Gender', 'Other_Inst_Plans ', 'Job'])\n",
    "df.columns"
   ]
  },
  {
   "cell_type": "code",
   "execution_count": 4,
   "metadata": {},
   "outputs": [],
   "source": [
    "target = df[\"Default_On_Payment\"]\n",
    "target_names = [\"No Default\", \"Defaulted\"]"
   ]
  },
  {
   "cell_type": "code",
   "execution_count": 5,
   "metadata": {},
   "outputs": [
    {
     "data": {
      "text/html": [
       "<div>\n",
       "<style scoped>\n",
       "    .dataframe tbody tr th:only-of-type {\n",
       "        vertical-align: middle;\n",
       "    }\n",
       "\n",
       "    .dataframe tbody tr th {\n",
       "        vertical-align: top;\n",
       "    }\n",
       "\n",
       "    .dataframe thead th {\n",
       "        text-align: right;\n",
       "    }\n",
       "</style>\n",
       "<table border=\"1\" class=\"dataframe\">\n",
       "  <thead>\n",
       "    <tr style=\"text-align: right;\">\n",
       "      <th></th>\n",
       "      <th>Purposre_Credit_Taken</th>\n",
       "      <th>Years_At_Present_Employment</th>\n",
       "      <th>Other_Debtors_Guarantors</th>\n",
       "      <th>Housing</th>\n",
       "      <th>Telephone</th>\n",
       "      <th>Foreign_Worker</th>\n",
       "      <th>Duration_binned</th>\n",
       "      <th>Credit_amount_binned</th>\n",
       "      <th>Age_binned</th>\n",
       "    </tr>\n",
       "    <tr>\n",
       "      <th>Customer_ID</th>\n",
       "      <th></th>\n",
       "      <th></th>\n",
       "      <th></th>\n",
       "      <th></th>\n",
       "      <th></th>\n",
       "      <th></th>\n",
       "      <th></th>\n",
       "      <th></th>\n",
       "      <th></th>\n",
       "    </tr>\n",
       "  </thead>\n",
       "  <tbody>\n",
       "    <tr>\n",
       "      <th>100001</th>\n",
       "      <td>A43</td>\n",
       "      <td>A75</td>\n",
       "      <td>A101</td>\n",
       "      <td>A152</td>\n",
       "      <td>A192</td>\n",
       "      <td>A201</td>\n",
       "      <td>B10</td>\n",
       "      <td>B20</td>\n",
       "      <td>B35</td>\n",
       "    </tr>\n",
       "    <tr>\n",
       "      <th>100002</th>\n",
       "      <td>A43</td>\n",
       "      <td>A73</td>\n",
       "      <td>A101</td>\n",
       "      <td>A152</td>\n",
       "      <td>A191</td>\n",
       "      <td>A201</td>\n",
       "      <td>B14</td>\n",
       "      <td>B22</td>\n",
       "      <td>B30</td>\n",
       "    </tr>\n",
       "    <tr>\n",
       "      <th>100003</th>\n",
       "      <td>A46</td>\n",
       "      <td>A74</td>\n",
       "      <td>A101</td>\n",
       "      <td>A152</td>\n",
       "      <td>A191</td>\n",
       "      <td>A201</td>\n",
       "      <td>B11</td>\n",
       "      <td>B20</td>\n",
       "      <td>B33</td>\n",
       "    </tr>\n",
       "    <tr>\n",
       "      <th>100004</th>\n",
       "      <td>A42</td>\n",
       "      <td>A74</td>\n",
       "      <td>A103</td>\n",
       "      <td>A153</td>\n",
       "      <td>A191</td>\n",
       "      <td>A201</td>\n",
       "      <td>B13</td>\n",
       "      <td>B23</td>\n",
       "      <td>B33</td>\n",
       "    </tr>\n",
       "    <tr>\n",
       "      <th>100005</th>\n",
       "      <td>A40</td>\n",
       "      <td>A73</td>\n",
       "      <td>A101</td>\n",
       "      <td>A153</td>\n",
       "      <td>A191</td>\n",
       "      <td>A201</td>\n",
       "      <td>B12</td>\n",
       "      <td>B21</td>\n",
       "      <td>B33</td>\n",
       "    </tr>\n",
       "  </tbody>\n",
       "</table>\n",
       "</div>"
      ],
      "text/plain": [
       "            Purposre_Credit_Taken Years_At_Present_Employment  \\\n",
       "Customer_ID                                                     \n",
       "100001                        A43                         A75   \n",
       "100002                        A43                         A73   \n",
       "100003                        A46                         A74   \n",
       "100004                        A42                         A74   \n",
       "100005                        A40                         A73   \n",
       "\n",
       "            Other_Debtors_Guarantors Housing Telephone Foreign_Worker  \\\n",
       "Customer_ID                                                             \n",
       "100001                          A101    A152      A192           A201   \n",
       "100002                          A101    A152      A191           A201   \n",
       "100003                          A101    A152      A191           A201   \n",
       "100004                          A103    A153      A191           A201   \n",
       "100005                          A101    A153      A191           A201   \n",
       "\n",
       "            Duration_binned Credit_amount_binned Age_binned  \n",
       "Customer_ID                                                  \n",
       "100001                  B10                  B20        B35  \n",
       "100002                  B14                  B22        B30  \n",
       "100003                  B11                  B20        B33  \n",
       "100004                  B13                  B23        B33  \n",
       "100005                  B12                  B21        B33  "
      ]
     },
     "execution_count": 5,
     "metadata": {},
     "output_type": "execute_result"
    }
   ],
   "source": [
    "data = df.drop(\"Default_On_Payment\", axis=1)\n",
    "feature_names = data.columns\n",
    "data.head()"
   ]
  },
  {
   "cell_type": "code",
   "execution_count": 6,
   "metadata": {},
   "outputs": [
    {
     "data": {
      "text/html": [
       "<div>\n",
       "<style scoped>\n",
       "    .dataframe tbody tr th:only-of-type {\n",
       "        vertical-align: middle;\n",
       "    }\n",
       "\n",
       "    .dataframe tbody tr th {\n",
       "        vertical-align: top;\n",
       "    }\n",
       "\n",
       "    .dataframe thead th {\n",
       "        text-align: right;\n",
       "    }\n",
       "</style>\n",
       "<table border=\"1\" class=\"dataframe\">\n",
       "  <thead>\n",
       "    <tr style=\"text-align: right;\">\n",
       "      <th></th>\n",
       "      <th>Purposre_Credit_Taken</th>\n",
       "      <th>Years_At_Present_Employment</th>\n",
       "      <th>Other_Debtors_Guarantors</th>\n",
       "      <th>Housing</th>\n",
       "      <th>Telephone</th>\n",
       "      <th>Foreign_Worker</th>\n",
       "      <th>Duration_binned</th>\n",
       "      <th>Credit_amount_binned</th>\n",
       "      <th>Age_binned</th>\n",
       "    </tr>\n",
       "    <tr>\n",
       "      <th>Customer_ID</th>\n",
       "      <th></th>\n",
       "      <th></th>\n",
       "      <th></th>\n",
       "      <th></th>\n",
       "      <th></th>\n",
       "      <th></th>\n",
       "      <th></th>\n",
       "      <th></th>\n",
       "      <th></th>\n",
       "    </tr>\n",
       "  </thead>\n",
       "  <tbody>\n",
       "    <tr>\n",
       "      <th>100001</th>\n",
       "      <td>4</td>\n",
       "      <td>4</td>\n",
       "      <td>0</td>\n",
       "      <td>1</td>\n",
       "      <td>1</td>\n",
       "      <td>0</td>\n",
       "      <td>0</td>\n",
       "      <td>0</td>\n",
       "      <td>5</td>\n",
       "    </tr>\n",
       "    <tr>\n",
       "      <th>100002</th>\n",
       "      <td>4</td>\n",
       "      <td>2</td>\n",
       "      <td>0</td>\n",
       "      <td>1</td>\n",
       "      <td>0</td>\n",
       "      <td>0</td>\n",
       "      <td>4</td>\n",
       "      <td>2</td>\n",
       "      <td>0</td>\n",
       "    </tr>\n",
       "    <tr>\n",
       "      <th>100003</th>\n",
       "      <td>7</td>\n",
       "      <td>3</td>\n",
       "      <td>0</td>\n",
       "      <td>1</td>\n",
       "      <td>0</td>\n",
       "      <td>0</td>\n",
       "      <td>1</td>\n",
       "      <td>0</td>\n",
       "      <td>3</td>\n",
       "    </tr>\n",
       "    <tr>\n",
       "      <th>100004</th>\n",
       "      <td>3</td>\n",
       "      <td>3</td>\n",
       "      <td>2</td>\n",
       "      <td>2</td>\n",
       "      <td>0</td>\n",
       "      <td>0</td>\n",
       "      <td>3</td>\n",
       "      <td>3</td>\n",
       "      <td>3</td>\n",
       "    </tr>\n",
       "    <tr>\n",
       "      <th>100005</th>\n",
       "      <td>0</td>\n",
       "      <td>2</td>\n",
       "      <td>0</td>\n",
       "      <td>2</td>\n",
       "      <td>0</td>\n",
       "      <td>0</td>\n",
       "      <td>2</td>\n",
       "      <td>1</td>\n",
       "      <td>3</td>\n",
       "    </tr>\n",
       "  </tbody>\n",
       "</table>\n",
       "</div>"
      ],
      "text/plain": [
       "             Purposre_Credit_Taken  Years_At_Present_Employment  \\\n",
       "Customer_ID                                                       \n",
       "100001                           4                            4   \n",
       "100002                           4                            2   \n",
       "100003                           7                            3   \n",
       "100004                           3                            3   \n",
       "100005                           0                            2   \n",
       "\n",
       "             Other_Debtors_Guarantors  Housing  Telephone  Foreign_Worker  \\\n",
       "Customer_ID                                                                 \n",
       "100001                              0        1          1               0   \n",
       "100002                              0        1          0               0   \n",
       "100003                              0        1          0               0   \n",
       "100004                              2        2          0               0   \n",
       "100005                              0        2          0               0   \n",
       "\n",
       "             Duration_binned  Credit_amount_binned  Age_binned  \n",
       "Customer_ID                                                     \n",
       "100001                     0                     0           5  \n",
       "100002                     4                     2           0  \n",
       "100003                     1                     0           3  \n",
       "100004                     3                     3           3  \n",
       "100005                     2                     1           3  "
      ]
     },
     "execution_count": 6,
     "metadata": {},
     "output_type": "execute_result"
    }
   ],
   "source": [
    "from sklearn.preprocessing import LabelEncoder\n",
    "\n",
    "columnsToEncode = list(data)\n",
    "le = LabelEncoder()\n",
    "for feature in columnsToEncode:\n",
    "    try:\n",
    "        data[feature] = le.fit_transform(data[feature])\n",
    "    except:\n",
    "        print('Error encoding '+feature)\n",
    "data.head()"
   ]
  },
  {
   "cell_type": "code",
   "execution_count": 7,
   "metadata": {},
   "outputs": [],
   "source": [
    "from sklearn.model_selection import train_test_split\n",
    "X_train, X_test, y_train, y_test = train_test_split(data, target, random_state=42)"
   ]
  },
  {
   "cell_type": "code",
   "execution_count": 8,
   "metadata": {},
   "outputs": [
    {
     "name": "stderr",
     "output_type": "stream",
     "text": [
      "C:\\Users\\Aly\\Anaconda3\\envs\\PythonData\\lib\\site-packages\\sklearn\\svm\\base.py:193: FutureWarning: The default value of gamma will change from 'auto' to 'scale' in version 0.22 to account better for unscaled features. Set gamma explicitly to 'auto' or 'scale' to avoid this warning.\n",
      "  \"avoid this warning.\", FutureWarning)\n"
     ]
    },
    {
     "data": {
      "text/plain": [
       "SVC(C=1.0, cache_size=200, class_weight=None, coef0=0.0,\n",
       "    decision_function_shape='ovr', degree=3, gamma='auto_deprecated',\n",
       "    kernel='rbf', max_iter=-1, probability=False, random_state=None,\n",
       "    shrinking=True, tol=0.001, verbose=False)"
      ]
     },
     "execution_count": 8,
     "metadata": {},
     "output_type": "execute_result"
    }
   ],
   "source": [
    "from sklearn.svm import SVC\n",
    "model = SVC(kernel='rbf')\n",
    "model.fit(X_train, y_train)"
   ]
  },
  {
   "cell_type": "code",
   "execution_count": 12,
   "metadata": {},
   "outputs": [],
   "source": [
    "from sklearn.model_selection import GridSearchCV\n",
    "cs = [10**i for i in range(0,5)]\n",
    "g = [10**i for i in range(-5,0)]\n",
    "param_grid = {'C': cs, 'gamma':g}\n",
    "grid = GridSearchCV(model, param_grid, verbose=4)"
   ]
  },
  {
   "cell_type": "code",
   "execution_count": 13,
   "metadata": {},
   "outputs": [
    {
     "name": "stderr",
     "output_type": "stream",
     "text": [
      "C:\\Users\\Aly\\Anaconda3\\envs\\PythonData\\lib\\site-packages\\sklearn\\model_selection\\_split.py:1978: FutureWarning: The default value of cv will change from 3 to 5 in version 0.22. Specify it explicitly to silence this warning.\n",
      "  warnings.warn(CV_WARNING, FutureWarning)\n",
      "[Parallel(n_jobs=1)]: Using backend SequentialBackend with 1 concurrent workers.\n"
     ]
    },
    {
     "name": "stdout",
     "output_type": "stream",
     "text": [
      "Fitting 3 folds for each of 25 candidates, totalling 75 fits\n",
      "[CV] C=1, gamma=1e-05 ................................................\n",
      "[CV] .................... C=1, gamma=1e-05, score=0.705, total=   0.3s\n",
      "[CV] C=1, gamma=1e-05 ................................................\n"
     ]
    },
    {
     "name": "stderr",
     "output_type": "stream",
     "text": [
      "[Parallel(n_jobs=1)]: Done   1 out of   1 | elapsed:    0.2s remaining:    0.0s\n"
     ]
    },
    {
     "name": "stdout",
     "output_type": "stream",
     "text": [
      "[CV] .................... C=1, gamma=1e-05, score=0.705, total=   0.2s\n",
      "[CV] C=1, gamma=1e-05 ................................................\n"
     ]
    },
    {
     "name": "stderr",
     "output_type": "stream",
     "text": [
      "[Parallel(n_jobs=1)]: Done   2 out of   2 | elapsed:    0.4s remaining:    0.0s\n"
     ]
    },
    {
     "name": "stdout",
     "output_type": "stream",
     "text": [
      "[CV] .................... C=1, gamma=1e-05, score=0.705, total=   0.2s\n",
      "[CV] C=1, gamma=0.0001 ...............................................\n"
     ]
    },
    {
     "name": "stderr",
     "output_type": "stream",
     "text": [
      "[Parallel(n_jobs=1)]: Done   3 out of   3 | elapsed:    0.7s remaining:    0.0s\n"
     ]
    },
    {
     "name": "stdout",
     "output_type": "stream",
     "text": [
      "[CV] ................... C=1, gamma=0.0001, score=0.705, total=   0.3s\n",
      "[CV] C=1, gamma=0.0001 ...............................................\n",
      "[CV] ................... C=1, gamma=0.0001, score=0.705, total=   0.3s\n",
      "[CV] C=1, gamma=0.0001 ...............................................\n",
      "[CV] ................... C=1, gamma=0.0001, score=0.705, total=   0.2s\n",
      "[CV] C=1, gamma=0.001 ................................................\n",
      "[CV] .................... C=1, gamma=0.001, score=0.705, total=   0.4s\n",
      "[CV] C=1, gamma=0.001 ................................................\n",
      "[CV] .................... C=1, gamma=0.001, score=0.705, total=   0.3s\n",
      "[CV] C=1, gamma=0.001 ................................................\n",
      "[CV] .................... C=1, gamma=0.001, score=0.705, total=   0.3s\n",
      "[CV] C=1, gamma=0.01 .................................................\n",
      "[CV] ..................... C=1, gamma=0.01, score=0.706, total=   0.3s\n",
      "[CV] C=1, gamma=0.01 .................................................\n",
      "[CV] ..................... C=1, gamma=0.01, score=0.706, total=   0.3s\n",
      "[CV] C=1, gamma=0.01 .................................................\n",
      "[CV] ..................... C=1, gamma=0.01, score=0.705, total=   0.3s\n",
      "[CV] C=1, gamma=0.1 ..................................................\n",
      "[CV] ...................... C=1, gamma=0.1, score=0.759, total=   0.3s\n",
      "[CV] C=1, gamma=0.1 ..................................................\n",
      "[CV] ...................... C=1, gamma=0.1, score=0.763, total=   0.3s\n",
      "[CV] C=1, gamma=0.1 ..................................................\n",
      "[CV] ...................... C=1, gamma=0.1, score=0.767, total=   0.3s\n",
      "[CV] C=10, gamma=1e-05 ...............................................\n",
      "[CV] ................... C=10, gamma=1e-05, score=0.705, total=   0.2s\n",
      "[CV] C=10, gamma=1e-05 ...............................................\n",
      "[CV] ................... C=10, gamma=1e-05, score=0.705, total=   0.3s\n",
      "[CV] C=10, gamma=1e-05 ...............................................\n",
      "[CV] ................... C=10, gamma=1e-05, score=0.705, total=   0.2s\n",
      "[CV] C=10, gamma=0.0001 ..............................................\n",
      "[CV] .................. C=10, gamma=0.0001, score=0.705, total=   0.3s\n",
      "[CV] C=10, gamma=0.0001 ..............................................\n",
      "[CV] .................. C=10, gamma=0.0001, score=0.705, total=   0.3s\n",
      "[CV] C=10, gamma=0.0001 ..............................................\n",
      "[CV] .................. C=10, gamma=0.0001, score=0.705, total=   0.3s\n",
      "[CV] C=10, gamma=0.001 ...............................................\n",
      "[CV] ................... C=10, gamma=0.001, score=0.705, total=   0.3s\n",
      "[CV] C=10, gamma=0.001 ...............................................\n",
      "[CV] ................... C=10, gamma=0.001, score=0.705, total=   0.4s\n",
      "[CV] C=10, gamma=0.001 ...............................................\n",
      "[CV] ................... C=10, gamma=0.001, score=0.705, total=   0.4s\n",
      "[CV] C=10, gamma=0.01 ................................................\n",
      "[CV] .................... C=10, gamma=0.01, score=0.719, total=   0.3s\n",
      "[CV] C=10, gamma=0.01 ................................................\n",
      "[CV] .................... C=10, gamma=0.01, score=0.720, total=   0.3s\n",
      "[CV] C=10, gamma=0.01 ................................................\n",
      "[CV] .................... C=10, gamma=0.01, score=0.730, total=   0.3s\n",
      "[CV] C=10, gamma=0.1 .................................................\n",
      "[CV] ..................... C=10, gamma=0.1, score=0.825, total=   0.4s\n",
      "[CV] C=10, gamma=0.1 .................................................\n",
      "[CV] ..................... C=10, gamma=0.1, score=0.824, total=   0.4s\n",
      "[CV] C=10, gamma=0.1 .................................................\n",
      "[CV] ..................... C=10, gamma=0.1, score=0.810, total=   0.4s\n",
      "[CV] C=100, gamma=1e-05 ..............................................\n",
      "[CV] .................. C=100, gamma=1e-05, score=0.705, total=   0.3s\n",
      "[CV] C=100, gamma=1e-05 ..............................................\n",
      "[CV] .................. C=100, gamma=1e-05, score=0.705, total=   0.3s\n",
      "[CV] C=100, gamma=1e-05 ..............................................\n",
      "[CV] .................. C=100, gamma=1e-05, score=0.705, total=   0.3s\n",
      "[CV] C=100, gamma=0.0001 .............................................\n",
      "[CV] ................. C=100, gamma=0.0001, score=0.705, total=   0.4s\n",
      "[CV] C=100, gamma=0.0001 .............................................\n",
      "[CV] ................. C=100, gamma=0.0001, score=0.705, total=   0.4s\n",
      "[CV] C=100, gamma=0.0001 .............................................\n",
      "[CV] ................. C=100, gamma=0.0001, score=0.705, total=   0.4s\n",
      "[CV] C=100, gamma=0.001 ..............................................\n",
      "[CV] .................. C=100, gamma=0.001, score=0.707, total=   0.4s\n",
      "[CV] C=100, gamma=0.001 ..............................................\n",
      "[CV] .................. C=100, gamma=0.001, score=0.706, total=   0.4s\n",
      "[CV] C=100, gamma=0.001 ..............................................\n",
      "[CV] .................. C=100, gamma=0.001, score=0.705, total=   0.4s\n",
      "[CV] C=100, gamma=0.01 ...............................................\n",
      "[CV] ................... C=100, gamma=0.01, score=0.746, total=   0.5s\n",
      "[CV] C=100, gamma=0.01 ...............................................\n",
      "[CV] ................... C=100, gamma=0.01, score=0.744, total=   0.5s\n",
      "[CV] C=100, gamma=0.01 ...............................................\n",
      "[CV] ................... C=100, gamma=0.01, score=0.748, total=   0.5s\n",
      "[CV] C=100, gamma=0.1 ................................................\n",
      "[CV] .................... C=100, gamma=0.1, score=0.882, total=   0.7s\n",
      "[CV] C=100, gamma=0.1 ................................................\n",
      "[CV] .................... C=100, gamma=0.1, score=0.885, total=   0.7s\n",
      "[CV] C=100, gamma=0.1 ................................................\n",
      "[CV] .................... C=100, gamma=0.1, score=0.876, total=   0.7s\n",
      "[CV] C=1000, gamma=1e-05 .............................................\n",
      "[CV] ................. C=1000, gamma=1e-05, score=0.705, total=   0.5s\n",
      "[CV] C=1000, gamma=1e-05 .............................................\n",
      "[CV] ................. C=1000, gamma=1e-05, score=0.705, total=   0.5s\n",
      "[CV] C=1000, gamma=1e-05 .............................................\n",
      "[CV] ................. C=1000, gamma=1e-05, score=0.705, total=   0.4s\n",
      "[CV] C=1000, gamma=0.0001 ............................................\n",
      "[CV] ................ C=1000, gamma=0.0001, score=0.705, total=   0.5s\n",
      "[CV] C=1000, gamma=0.0001 ............................................\n",
      "[CV] ................ C=1000, gamma=0.0001, score=0.705, total=   0.5s\n",
      "[CV] C=1000, gamma=0.0001 ............................................\n",
      "[CV] ................ C=1000, gamma=0.0001, score=0.705, total=   0.6s\n",
      "[CV] C=1000, gamma=0.001 .............................................\n",
      "[CV] ................. C=1000, gamma=0.001, score=0.710, total=   0.7s\n",
      "[CV] C=1000, gamma=0.001 .............................................\n",
      "[CV] ................. C=1000, gamma=0.001, score=0.725, total=   0.6s\n",
      "[CV] C=1000, gamma=0.001 .............................................\n",
      "[CV] ................. C=1000, gamma=0.001, score=0.729, total=   0.5s\n",
      "[CV] C=1000, gamma=0.01 ..............................................\n",
      "[CV] .................. C=1000, gamma=0.01, score=0.773, total=   2.1s\n",
      "[CV] C=1000, gamma=0.01 ..............................................\n",
      "[CV] .................. C=1000, gamma=0.01, score=0.779, total=   1.8s\n",
      "[CV] C=1000, gamma=0.01 ..............................................\n",
      "[CV] .................. C=1000, gamma=0.01, score=0.787, total=   1.6s\n",
      "[CV] C=1000, gamma=0.1 ...............................................\n",
      "[CV] ................... C=1000, gamma=0.1, score=0.917, total=   1.6s\n",
      "[CV] C=1000, gamma=0.1 ...............................................\n",
      "[CV] ................... C=1000, gamma=0.1, score=0.903, total=   2.1s\n",
      "[CV] C=1000, gamma=0.1 ...............................................\n",
      "[CV] ................... C=1000, gamma=0.1, score=0.913, total=   1.8s\n",
      "[CV] C=10000, gamma=1e-05 ............................................\n",
      "[CV] ................ C=10000, gamma=1e-05, score=0.705, total=   0.5s\n",
      "[CV] C=10000, gamma=1e-05 ............................................\n"
     ]
    },
    {
     "name": "stdout",
     "output_type": "stream",
     "text": [
      "[CV] ................ C=10000, gamma=1e-05, score=0.705, total=   0.5s\n",
      "[CV] C=10000, gamma=1e-05 ............................................\n",
      "[CV] ................ C=10000, gamma=1e-05, score=0.705, total=   0.5s\n",
      "[CV] C=10000, gamma=0.0001 ...........................................\n",
      "[CV] ............... C=10000, gamma=0.0001, score=0.705, total=   0.7s\n",
      "[CV] C=10000, gamma=0.0001 ...........................................\n",
      "[CV] ............... C=10000, gamma=0.0001, score=0.706, total=   0.7s\n",
      "[CV] C=10000, gamma=0.0001 ...........................................\n",
      "[CV] ............... C=10000, gamma=0.0001, score=0.707, total=   0.9s\n",
      "[CV] C=10000, gamma=0.001 ............................................\n",
      "[CV] ................ C=10000, gamma=0.001, score=0.733, total=   3.0s\n",
      "[CV] C=10000, gamma=0.001 ............................................\n",
      "[CV] ................ C=10000, gamma=0.001, score=0.735, total=   3.2s\n",
      "[CV] C=10000, gamma=0.001 ............................................\n",
      "[CV] ................ C=10000, gamma=0.001, score=0.745, total=   2.6s\n",
      "[CV] C=10000, gamma=0.01 .............................................\n",
      "[CV] ................. C=10000, gamma=0.01, score=0.797, total=  21.4s\n",
      "[CV] C=10000, gamma=0.01 .............................................\n",
      "[CV] ................. C=10000, gamma=0.01, score=0.818, total=  18.8s\n",
      "[CV] C=10000, gamma=0.01 .............................................\n",
      "[CV] ................. C=10000, gamma=0.01, score=0.808, total=  20.0s\n",
      "[CV] C=10000, gamma=0.1 ..............................................\n",
      "[CV] .................. C=10000, gamma=0.1, score=0.910, total=   2.3s\n",
      "[CV] C=10000, gamma=0.1 ..............................................\n",
      "[CV] .................. C=10000, gamma=0.1, score=0.912, total=   2.4s\n",
      "[CV] C=10000, gamma=0.1 ..............................................\n",
      "[CV] .................. C=10000, gamma=0.1, score=0.914, total=   2.3s\n"
     ]
    },
    {
     "name": "stderr",
     "output_type": "stream",
     "text": [
      "[Parallel(n_jobs=1)]: Done  75 out of  75 | elapsed:  1.9min finished\n"
     ]
    },
    {
     "data": {
      "text/plain": [
       "GridSearchCV(cv='warn', error_score='raise-deprecating',\n",
       "             estimator=SVC(C=1.0, cache_size=200, class_weight=None, coef0=0.0,\n",
       "                           decision_function_shape='ovr', degree=3,\n",
       "                           gamma='auto_deprecated', kernel='rbf', max_iter=-1,\n",
       "                           probability=False, random_state=None, shrinking=True,\n",
       "                           tol=0.001, verbose=False),\n",
       "             iid='warn', n_jobs=None,\n",
       "             param_grid={'C': [1, 10, 100, 1000, 10000],\n",
       "                         'gamma': [1e-05, 0.0001, 0.001, 0.01, 0.1]},\n",
       "             pre_dispatch='2*n_jobs', refit=True, return_train_score=False,\n",
       "             scoring=None, verbose=4)"
      ]
     },
     "execution_count": 13,
     "metadata": {},
     "output_type": "execute_result"
    }
   ],
   "source": [
    "grid.fit(X_train, y_train)"
   ]
  },
  {
   "cell_type": "code",
   "execution_count": 14,
   "metadata": {},
   "outputs": [
    {
     "name": "stdout",
     "output_type": "stream",
     "text": [
      "{'C': 10000, 'gamma': 0.1}\n",
      "0.912\n"
     ]
    }
   ],
   "source": [
    "print(grid.best_params_)\n",
    "print(grid.best_score_)"
   ]
  },
  {
   "cell_type": "code",
   "execution_count": 15,
   "metadata": {},
   "outputs": [
    {
     "data": {
      "text/plain": [
       "SVC(C=10000, cache_size=200, class_weight=None, coef0=0.0,\n",
       "    decision_function_shape='ovr', degree=3, gamma=0.1, kernel='rbf',\n",
       "    max_iter=-1, probability=False, random_state=None, shrinking=True,\n",
       "    tol=0.001, verbose=False)"
      ]
     },
     "execution_count": 15,
     "metadata": {},
     "output_type": "execute_result"
    }
   ],
   "source": [
    "model = SVC(kernel='rbf', C = grid.best_estimator_.C, gamma = grid.best_estimator_.gamma)\n",
    "model.fit(X_train, y_train)"
   ]
  },
  {
   "cell_type": "code",
   "execution_count": 16,
   "metadata": {},
   "outputs": [
    {
     "name": "stdout",
     "output_type": "stream",
     "text": [
      "Test Acc: 0.942\n"
     ]
    }
   ],
   "source": [
    "print('Test Acc: %.3f' % model.score(X_test, y_test))"
   ]
  },
  {
   "cell_type": "code",
   "execution_count": 17,
   "metadata": {},
   "outputs": [
    {
     "name": "stdout",
     "output_type": "stream",
     "text": [
      "              precision    recall  f1-score   support\n",
      "\n",
      "  No Default       0.94      0.98      0.96       862\n",
      "   Defaulted       0.96      0.85      0.90       388\n",
      "\n",
      "    accuracy                           0.94      1250\n",
      "   macro avg       0.95      0.92      0.93      1250\n",
      "weighted avg       0.94      0.94      0.94      1250\n",
      "\n"
     ]
    }
   ],
   "source": [
    "from sklearn.metrics import classification_report\n",
    "predictions = model.predict(X_test)\n",
    "predictprob = model.decision_function(X_test)\n",
    "print(classification_report (y_test, predictions, target_names=target_names))\n"
   ]
  },
  {
   "cell_type": "code",
   "execution_count": 18,
   "metadata": {},
   "outputs": [],
   "source": [
    "import seaborn as sns\n",
    "sns.set('talk', 'whitegrid', 'dark', font_scale=1,rc={\"lines.linewidth\": 2, 'grid.linestyle': '--'})\n",
    "def plotAUC(truth, pred, lab):\n",
    "    fpr, tpr, _ = metrics.roc_curve(truth,pred)\n",
    "    roc_auc = metrics.auc(fpr, tpr)\n",
    "    lw = 2\n",
    "    c = (np.random.rand(), np.random.rand(), np.random.rand())\n",
    "    plt.plot(fpr, tpr, color= c,lw=lw, label= lab +'(AUC = %0.2f)' % roc_auc)\n",
    "    plt.plot([0, 1], [0, 1], color='navy', lw=lw, linestyle='--')\n",
    "    plt.xlim([0.0, 1.0])\n",
    "    plt.ylim([0.0, 1.0])\n",
    "    plt.xlabel('False Positive Rate')\n",
    "    plt.ylabel('True Positive Rate')\n",
    "    plt.title('ROC curve') #Receiver Operating Characteristic \n",
    "    plt.legend(loc=\"lower right\")\n",
    "    plt.show()"
   ]
  },
  {
   "cell_type": "code",
   "execution_count": 19,
   "metadata": {},
   "outputs": [
    {
     "data": {
      "image/png": "[encoded data removed]",
      "text/plain": [
       "<Figure size 432x288 with 1 Axes>"
      ]
     },
     "metadata": {},
     "output_type": "display_data"
    }
   ],
   "source": [
    "plotAUC(y_test,predictprob, 'SVM')"
   ]
  },
  {
   "cell_type": "code",
   "execution_count": 20,
   "metadata": {},
   "outputs": [],
   "source": [
    "import itertools\n",
    "from sklearn.metrics import confusion_matrix\n",
    "def plot_confusion_matrix(model, normalize=False): # This function prints and plots the confusion matrix.\n",
    "    cm = confusion_matrix(y_test, model, labels=[0, 1])\n",
    "    classes=[\"No Default\", \"Defaulted\"]\n",
    "    \n",
    "    cmap = plt.cm.Blues\n",
    "    title = \"Confusion Matrix\"\n",
    "    if normalize:\n",
    "        cm = cm.astype('float') / cm.sum(axis=1)[:, np.newaxis]\n",
    "        cm = np.around(cm, decimals=3)\n",
    "    plt.imshow(cm, interpolation='nearest', cmap=cmap)\n",
    "    plt.title(title)\n",
    "    plt.colorbar()\n",
    "    tick_marks = np.arange(len(classes))\n",
    "    plt.xticks(tick_marks, classes, rotation=45)\n",
    "    plt.yticks(tick_marks, classes)\n",
    "    thresh = cm.max() / 2.\n",
    "    for i, j in itertools.product(range(cm.shape[0]), range(cm.shape[1])):\n",
    "        plt.text(j, i, cm[i, j],\n",
    "                 horizontalalignment=\"center\",\n",
    "                 color=\"white\" if cm[i, j] > thresh else \"black\")\n",
    "    plt.ylim(-0.5,1.5)\n",
    "    plt.tight_layout()\n",
    "    plt.ylabel('True label')\n",
    "    plt.xlabel('Predicted label')\n",
    "    plt.show()"
   ]
  },
  {
   "cell_type": "code",
   "execution_count": 21,
   "metadata": {},
   "outputs": [
    {
     "data": {
      "image/png": "[encoded data removed]",
      "text/plain": [
       "<Figure size 432x432 with 2 Axes>"
      ]
     },
     "metadata": {},
     "output_type": "display_data"
    }
   ],
   "source": [
    "plt.figure(figsize=(6,6))\n",
    "plot_confusion_matrix(predictions, normalize=True)"
   ]
  },
  {
   "cell_type": "code",
   "execution_count": null,
   "metadata": {},
   "outputs": [],
   "source": []
  }
 ],
 "metadata": {
  "kernelspec": {
   "display_name": "Python [conda env:PythonData] *",
   "language": "python",
   "name": "conda-env-PythonData-py"
  },
  "language_info": {
   "codemirror_mode": {
    "name": "ipython",
    "version": 3
   },
   "file_extension": ".py",
   "mimetype": "text/x-python",
   "name": "python",
   "nbconvert_exporter": "python",
   "pygments_lexer": "ipython3",
   "version": "3.6.9"
  }
 },
 "nbformat": 4,
 "nbformat_minor": 2
}
