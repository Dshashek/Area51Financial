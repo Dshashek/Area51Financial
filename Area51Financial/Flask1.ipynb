{
 "cells": [
  {
   "cell_type": "code",
   "execution_count": null,
   "metadata": {},
   "outputs": [
    {
     "name": "stderr",
     "output_type": "stream",
     "text": [
      " * Running on http://127.0.0.1:5000/ (Press CTRL+C to quit)\n",
      "127.0.0.1 - - [30/Sep/2019 18:56:48] \"\u001b[37mGET / HTTP/1.1\u001b[0m\" 200 -\n",
      "127.0.0.1 - - [30/Sep/2019 18:56:48] \"\u001b[37mGET /static/style.css HTTP/1.1\u001b[0m\" 200 -\n",
      "127.0.0.1 - - [30/Sep/2019 18:56:48] \"\u001b[33mGET /app.js HTTP/1.1\u001b[0m\" 404 -\n",
      "127.0.0.1 - - [30/Sep/2019 18:56:49] \"\u001b[33mGET /app.js HTTP/1.1\u001b[0m\" 404 -\n"
     ]
    }
   ],
   "source": [
    "from flask import Flask,render_template,request\n",
    "\n",
    "import pandas as pd\n",
    "\n",
    "template_dir = r'C:\\Users\\bvkka\\Desktop\\LoanApprover2'\n",
    "\n",
    "app = Flask(__name__,template_folder=template_dir)\n",
    "\n",
    "\n",
    "@app.route(\"/\")\n",
    "def index():\n",
    "    return render_template('Index.html')\n",
    "\n",
    "@app.route('/ajax',methods = ['POST'])\n",
    "def test():\n",
    "    if request.method == 'POST':\n",
    "        n = request.form['name']\n",
    "        return 'ttt working'\n",
    "\n",
    "if __name__ == '__main__':\n",
    "    app.run()\n"
   ]
  }
 ],
 "metadata": {
  "kernelspec": {
   "display_name": "Python 3",
   "language": "python",
   "name": "python3"
  },
  "language_info": {
   "codemirror_mode": {
    "name": "ipython",
    "version": 3
   },
   "file_extension": ".py",
   "mimetype": "text/x-python",
   "name": "python",
   "nbconvert_exporter": "python",
   "pygments_lexer": "ipython3",
   "version": "3.6.5"
  }
 },
 "nbformat": 4,
 "nbformat_minor": 2
}
