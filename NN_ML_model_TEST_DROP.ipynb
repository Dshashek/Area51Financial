{
 "cells": [
  {
   "cell_type": "code",
   "execution_count": 1,
   "metadata": {},
   "outputs": [
    {
     "data": {
      "text/plain": [
       "Index(['Customer_ID', 'Num_CC', 'Dependents', 'Status_Checking_Acc',\n",
       "       'Credit_History', 'Purposre_Credit_Taken', 'Savings_Acc',\n",
       "       'Years_At_Present_Employment', 'Marital_Status_Gender',\n",
       "       'Other_Debtors_Guarantors', 'Other_Inst_Plans ', 'Housing', 'Job',\n",
       "       'Telephone', 'Foreign_Worker', 'Duration_binned',\n",
       "       'Credit_amount_binned', 'Age_binned', 'Default_On_Payment'],\n",
       "      dtype='object')"
      ]
     },
     "execution_count": 1,
     "metadata": {},
     "output_type": "execute_result"
    }
   ],
   "source": [
    "import os\n",
    "import pandas as pd\n",
    "import numpy as np\n",
    "from sklearn.preprocessing import LabelEncoder\n",
    "from tensorflow.keras.utils import to_categorical\n",
    "\n",
    "# load NN_dataset\n",
    "filepath = \"NN_dataset.csv\"\n",
    "NN_data = pd.read_csv(filepath)\n",
    "NN_data.columns"
   ]
  },
  {
   "cell_type": "code",
   "execution_count": 2,
   "metadata": {},
   "outputs": [],
   "source": [
    "# set Customer_ID as index\n",
    "NN_data.set_index('Customer_ID',inplace=True)"
   ]
  },
  {
   "cell_type": "code",
   "execution_count": 3,
   "metadata": {},
   "outputs": [
    {
     "data": {
      "text/plain": [
       "Num_CC                          int64\n",
       "Dependents                      int64\n",
       "Status_Checking_Acc            object\n",
       "Credit_History                 object\n",
       "Purposre_Credit_Taken          object\n",
       "Savings_Acc                    object\n",
       "Years_At_Present_Employment    object\n",
       "Marital_Status_Gender          object\n",
       "Other_Debtors_Guarantors       object\n",
       "Other_Inst_Plans               object\n",
       "Housing                        object\n",
       "Job                            object\n",
       "Telephone                      object\n",
       "Foreign_Worker                 object\n",
       "Duration_binned                object\n",
       "Credit_amount_binned           object\n",
       "Age_binned                     object\n",
       "Default_On_Payment              int64\n",
       "dtype: object"
      ]
     },
     "execution_count": 3,
     "metadata": {},
     "output_type": "execute_result"
    }
   ],
   "source": [
    "NN_data.dtypes"
   ]
  },
  {
   "cell_type": "code",
   "execution_count": 4,
   "metadata": {},
   "outputs": [],
   "source": [
    "NN_data['Num_CC'] = NN_data['Num_CC'].astype(str)\n",
    "NN_data['Dependents'] = NN_data['Dependents'].astype(str)"
   ]
  },
  {
   "cell_type": "code",
   "execution_count": 5,
   "metadata": {},
   "outputs": [
    {
     "data": {
      "text/plain": [
       "Num_CC                         object\n",
       "Dependents                     object\n",
       "Status_Checking_Acc            object\n",
       "Credit_History                 object\n",
       "Purposre_Credit_Taken          object\n",
       "Savings_Acc                    object\n",
       "Years_At_Present_Employment    object\n",
       "Marital_Status_Gender          object\n",
       "Other_Debtors_Guarantors       object\n",
       "Other_Inst_Plans               object\n",
       "Housing                        object\n",
       "Job                            object\n",
       "Telephone                      object\n",
       "Foreign_Worker                 object\n",
       "Duration_binned                object\n",
       "Credit_amount_binned           object\n",
       "Age_binned                     object\n",
       "Default_On_Payment              int64\n",
       "dtype: object"
      ]
     },
     "execution_count": 5,
     "metadata": {},
     "output_type": "execute_result"
    }
   ],
   "source": [
    "NN_data.dtypes"
   ]
  },
  {
   "cell_type": "code",
   "execution_count": 6,
   "metadata": {},
   "outputs": [],
   "source": [
    "NN_data = NN_data.drop(columns=['Num_CC', 'Dependents', 'Status_Checking_Acc', 'Credit_History', 'Savings_Acc', 'Marital_Status_Gender', 'Other_Inst_Plans ', 'Job',\n",
    "       'Telephone', 'Foreign_Worker'])"
   ]
  },
  {
   "cell_type": "code",
   "execution_count": 7,
   "metadata": {},
   "outputs": [
    {
     "data": {
      "text/plain": [
       "Purposre_Credit_Taken          object\n",
       "Years_At_Present_Employment    object\n",
       "Other_Debtors_Guarantors       object\n",
       "Housing                        object\n",
       "Duration_binned                object\n",
       "Credit_amount_binned           object\n",
       "Age_binned                     object\n",
       "Default_On_Payment              int64\n",
       "dtype: object"
      ]
     },
     "execution_count": 7,
     "metadata": {},
     "output_type": "execute_result"
    }
   ],
   "source": [
    "NN_data.dtypes"
   ]
  },
  {
   "cell_type": "code",
   "execution_count": 8,
   "metadata": {},
   "outputs": [
    {
     "data": {
      "text/plain": [
       "Index(['Purposre_Credit_Taken', 'Years_At_Present_Employment',\n",
       "       'Other_Debtors_Guarantors', 'Housing', 'Duration_binned',\n",
       "       'Credit_amount_binned', 'Age_binned', 'Default_On_Payment'],\n",
       "      dtype='object')"
      ]
     },
     "execution_count": 8,
     "metadata": {},
     "output_type": "execute_result"
    }
   ],
   "source": [
    "NN_data.columns"
   ]
  },
  {
   "cell_type": "code",
   "execution_count": 9,
   "metadata": {},
   "outputs": [],
   "source": [
    "NN_data = pd.get_dummies(NN_data, prefix=['Purposre_Credit_Taken', 'Years_At_Present_Employment',\n",
    "       'Other_Debtors_Guarantors', 'Housing', 'Duration_binned', \n",
    "       'Credit_amount_binned', 'Age_binned'])"
   ]
  },
  {
   "cell_type": "code",
   "execution_count": 10,
   "metadata": {},
   "outputs": [
    {
     "data": {
      "text/html": [
       "<div>\n",
       "<style scoped>\n",
       "    .dataframe tbody tr th:only-of-type {\n",
       "        vertical-align: middle;\n",
       "    }\n",
       "\n",
       "    .dataframe tbody tr th {\n",
       "        vertical-align: top;\n",
       "    }\n",
       "\n",
       "    .dataframe thead th {\n",
       "        text-align: right;\n",
       "    }\n",
       "</style>\n",
       "<table border=\"1\" class=\"dataframe\">\n",
       "  <thead>\n",
       "    <tr style=\"text-align: right;\">\n",
       "      <th></th>\n",
       "      <th>Default_On_Payment</th>\n",
       "      <th>Purposre_Credit_Taken_A40</th>\n",
       "      <th>Purposre_Credit_Taken_A41</th>\n",
       "      <th>Purposre_Credit_Taken_A410</th>\n",
       "      <th>Purposre_Credit_Taken_A42</th>\n",
       "      <th>Purposre_Credit_Taken_A43</th>\n",
       "      <th>Purposre_Credit_Taken_A44</th>\n",
       "      <th>Purposre_Credit_Taken_A45</th>\n",
       "      <th>Purposre_Credit_Taken_A46</th>\n",
       "      <th>Purposre_Credit_Taken_A48</th>\n",
       "      <th>...</th>\n",
       "      <th>Credit_amount_binned_B24</th>\n",
       "      <th>Credit_amount_binned_B25</th>\n",
       "      <th>Credit_amount_binned_B26</th>\n",
       "      <th>Credit_amount_binned_B27</th>\n",
       "      <th>Age_binned_B30</th>\n",
       "      <th>Age_binned_B31</th>\n",
       "      <th>Age_binned_B32</th>\n",
       "      <th>Age_binned_B33</th>\n",
       "      <th>Age_binned_B34</th>\n",
       "      <th>Age_binned_B35</th>\n",
       "    </tr>\n",
       "    <tr>\n",
       "      <th>Customer_ID</th>\n",
       "      <th></th>\n",
       "      <th></th>\n",
       "      <th></th>\n",
       "      <th></th>\n",
       "      <th></th>\n",
       "      <th></th>\n",
       "      <th></th>\n",
       "      <th></th>\n",
       "      <th></th>\n",
       "      <th></th>\n",
       "      <th></th>\n",
       "      <th></th>\n",
       "      <th></th>\n",
       "      <th></th>\n",
       "      <th></th>\n",
       "      <th></th>\n",
       "      <th></th>\n",
       "      <th></th>\n",
       "      <th></th>\n",
       "      <th></th>\n",
       "      <th></th>\n",
       "    </tr>\n",
       "  </thead>\n",
       "  <tbody>\n",
       "    <tr>\n",
       "      <td>100001</td>\n",
       "      <td>0</td>\n",
       "      <td>0</td>\n",
       "      <td>0</td>\n",
       "      <td>0</td>\n",
       "      <td>0</td>\n",
       "      <td>1</td>\n",
       "      <td>0</td>\n",
       "      <td>0</td>\n",
       "      <td>0</td>\n",
       "      <td>0</td>\n",
       "      <td>...</td>\n",
       "      <td>0</td>\n",
       "      <td>0</td>\n",
       "      <td>0</td>\n",
       "      <td>0</td>\n",
       "      <td>0</td>\n",
       "      <td>0</td>\n",
       "      <td>0</td>\n",
       "      <td>0</td>\n",
       "      <td>0</td>\n",
       "      <td>1</td>\n",
       "    </tr>\n",
       "    <tr>\n",
       "      <td>100002</td>\n",
       "      <td>0</td>\n",
       "      <td>0</td>\n",
       "      <td>0</td>\n",
       "      <td>0</td>\n",
       "      <td>0</td>\n",
       "      <td>1</td>\n",
       "      <td>0</td>\n",
       "      <td>0</td>\n",
       "      <td>0</td>\n",
       "      <td>0</td>\n",
       "      <td>...</td>\n",
       "      <td>0</td>\n",
       "      <td>0</td>\n",
       "      <td>0</td>\n",
       "      <td>0</td>\n",
       "      <td>1</td>\n",
       "      <td>0</td>\n",
       "      <td>0</td>\n",
       "      <td>0</td>\n",
       "      <td>0</td>\n",
       "      <td>0</td>\n",
       "    </tr>\n",
       "    <tr>\n",
       "      <td>100003</td>\n",
       "      <td>0</td>\n",
       "      <td>0</td>\n",
       "      <td>0</td>\n",
       "      <td>0</td>\n",
       "      <td>0</td>\n",
       "      <td>0</td>\n",
       "      <td>0</td>\n",
       "      <td>0</td>\n",
       "      <td>1</td>\n",
       "      <td>0</td>\n",
       "      <td>...</td>\n",
       "      <td>0</td>\n",
       "      <td>0</td>\n",
       "      <td>0</td>\n",
       "      <td>0</td>\n",
       "      <td>0</td>\n",
       "      <td>0</td>\n",
       "      <td>0</td>\n",
       "      <td>1</td>\n",
       "      <td>0</td>\n",
       "      <td>0</td>\n",
       "    </tr>\n",
       "    <tr>\n",
       "      <td>100004</td>\n",
       "      <td>0</td>\n",
       "      <td>0</td>\n",
       "      <td>0</td>\n",
       "      <td>0</td>\n",
       "      <td>1</td>\n",
       "      <td>0</td>\n",
       "      <td>0</td>\n",
       "      <td>0</td>\n",
       "      <td>0</td>\n",
       "      <td>0</td>\n",
       "      <td>...</td>\n",
       "      <td>0</td>\n",
       "      <td>0</td>\n",
       "      <td>0</td>\n",
       "      <td>0</td>\n",
       "      <td>0</td>\n",
       "      <td>0</td>\n",
       "      <td>0</td>\n",
       "      <td>1</td>\n",
       "      <td>0</td>\n",
       "      <td>0</td>\n",
       "    </tr>\n",
       "    <tr>\n",
       "      <td>100005</td>\n",
       "      <td>1</td>\n",
       "      <td>1</td>\n",
       "      <td>0</td>\n",
       "      <td>0</td>\n",
       "      <td>0</td>\n",
       "      <td>0</td>\n",
       "      <td>0</td>\n",
       "      <td>0</td>\n",
       "      <td>0</td>\n",
       "      <td>0</td>\n",
       "      <td>...</td>\n",
       "      <td>0</td>\n",
       "      <td>0</td>\n",
       "      <td>0</td>\n",
       "      <td>0</td>\n",
       "      <td>0</td>\n",
       "      <td>0</td>\n",
       "      <td>0</td>\n",
       "      <td>1</td>\n",
       "      <td>0</td>\n",
       "      <td>0</td>\n",
       "    </tr>\n",
       "    <tr>\n",
       "      <td>...</td>\n",
       "      <td>...</td>\n",
       "      <td>...</td>\n",
       "      <td>...</td>\n",
       "      <td>...</td>\n",
       "      <td>...</td>\n",
       "      <td>...</td>\n",
       "      <td>...</td>\n",
       "      <td>...</td>\n",
       "      <td>...</td>\n",
       "      <td>...</td>\n",
       "      <td>...</td>\n",
       "      <td>...</td>\n",
       "      <td>...</td>\n",
       "      <td>...</td>\n",
       "      <td>...</td>\n",
       "      <td>...</td>\n",
       "      <td>...</td>\n",
       "      <td>...</td>\n",
       "      <td>...</td>\n",
       "      <td>...</td>\n",
       "      <td>...</td>\n",
       "    </tr>\n",
       "    <tr>\n",
       "      <td>104996</td>\n",
       "      <td>0</td>\n",
       "      <td>0</td>\n",
       "      <td>0</td>\n",
       "      <td>0</td>\n",
       "      <td>1</td>\n",
       "      <td>0</td>\n",
       "      <td>0</td>\n",
       "      <td>0</td>\n",
       "      <td>0</td>\n",
       "      <td>0</td>\n",
       "      <td>...</td>\n",
       "      <td>0</td>\n",
       "      <td>0</td>\n",
       "      <td>0</td>\n",
       "      <td>0</td>\n",
       "      <td>0</td>\n",
       "      <td>1</td>\n",
       "      <td>0</td>\n",
       "      <td>0</td>\n",
       "      <td>0</td>\n",
       "      <td>0</td>\n",
       "    </tr>\n",
       "    <tr>\n",
       "      <td>104997</td>\n",
       "      <td>0</td>\n",
       "      <td>0</td>\n",
       "      <td>1</td>\n",
       "      <td>0</td>\n",
       "      <td>0</td>\n",
       "      <td>0</td>\n",
       "      <td>0</td>\n",
       "      <td>0</td>\n",
       "      <td>0</td>\n",
       "      <td>0</td>\n",
       "      <td>...</td>\n",
       "      <td>0</td>\n",
       "      <td>0</td>\n",
       "      <td>0</td>\n",
       "      <td>0</td>\n",
       "      <td>0</td>\n",
       "      <td>0</td>\n",
       "      <td>1</td>\n",
       "      <td>0</td>\n",
       "      <td>0</td>\n",
       "      <td>0</td>\n",
       "    </tr>\n",
       "    <tr>\n",
       "      <td>104998</td>\n",
       "      <td>0</td>\n",
       "      <td>0</td>\n",
       "      <td>0</td>\n",
       "      <td>0</td>\n",
       "      <td>0</td>\n",
       "      <td>1</td>\n",
       "      <td>0</td>\n",
       "      <td>0</td>\n",
       "      <td>0</td>\n",
       "      <td>0</td>\n",
       "      <td>...</td>\n",
       "      <td>0</td>\n",
       "      <td>0</td>\n",
       "      <td>0</td>\n",
       "      <td>0</td>\n",
       "      <td>0</td>\n",
       "      <td>0</td>\n",
       "      <td>1</td>\n",
       "      <td>0</td>\n",
       "      <td>0</td>\n",
       "      <td>0</td>\n",
       "    </tr>\n",
       "    <tr>\n",
       "      <td>104999</td>\n",
       "      <td>1</td>\n",
       "      <td>0</td>\n",
       "      <td>0</td>\n",
       "      <td>0</td>\n",
       "      <td>0</td>\n",
       "      <td>1</td>\n",
       "      <td>0</td>\n",
       "      <td>0</td>\n",
       "      <td>0</td>\n",
       "      <td>0</td>\n",
       "      <td>...</td>\n",
       "      <td>0</td>\n",
       "      <td>0</td>\n",
       "      <td>0</td>\n",
       "      <td>0</td>\n",
       "      <td>1</td>\n",
       "      <td>0</td>\n",
       "      <td>0</td>\n",
       "      <td>0</td>\n",
       "      <td>0</td>\n",
       "      <td>0</td>\n",
       "    </tr>\n",
       "    <tr>\n",
       "      <td>105000</td>\n",
       "      <td>0</td>\n",
       "      <td>0</td>\n",
       "      <td>1</td>\n",
       "      <td>0</td>\n",
       "      <td>0</td>\n",
       "      <td>0</td>\n",
       "      <td>0</td>\n",
       "      <td>0</td>\n",
       "      <td>0</td>\n",
       "      <td>0</td>\n",
       "      <td>...</td>\n",
       "      <td>0</td>\n",
       "      <td>0</td>\n",
       "      <td>0</td>\n",
       "      <td>0</td>\n",
       "      <td>0</td>\n",
       "      <td>1</td>\n",
       "      <td>0</td>\n",
       "      <td>0</td>\n",
       "      <td>0</td>\n",
       "      <td>0</td>\n",
       "    </tr>\n",
       "  </tbody>\n",
       "</table>\n",
       "<p>5000 rows × 42 columns</p>\n",
       "</div>"
      ],
      "text/plain": [
       "             Default_On_Payment  Purposre_Credit_Taken_A40  \\\n",
       "Customer_ID                                                  \n",
       "100001                        0                          0   \n",
       "100002                        0                          0   \n",
       "100003                        0                          0   \n",
       "100004                        0                          0   \n",
       "100005                        1                          1   \n",
       "...                         ...                        ...   \n",
       "104996                        0                          0   \n",
       "104997                        0                          0   \n",
       "104998                        0                          0   \n",
       "104999                        1                          0   \n",
       "105000                        0                          0   \n",
       "\n",
       "             Purposre_Credit_Taken_A41  Purposre_Credit_Taken_A410  \\\n",
       "Customer_ID                                                          \n",
       "100001                               0                           0   \n",
       "100002                               0                           0   \n",
       "100003                               0                           0   \n",
       "100004                               0                           0   \n",
       "100005                               0                           0   \n",
       "...                                ...                         ...   \n",
       "104996                               0                           0   \n",
       "104997                               1                           0   \n",
       "104998                               0                           0   \n",
       "104999                               0                           0   \n",
       "105000                               1                           0   \n",
       "\n",
       "             Purposre_Credit_Taken_A42  Purposre_Credit_Taken_A43  \\\n",
       "Customer_ID                                                         \n",
       "100001                               0                          1   \n",
       "100002                               0                          1   \n",
       "100003                               0                          0   \n",
       "100004                               1                          0   \n",
       "100005                               0                          0   \n",
       "...                                ...                        ...   \n",
       "104996                               1                          0   \n",
       "104997                               0                          0   \n",
       "104998                               0                          1   \n",
       "104999                               0                          1   \n",
       "105000                               0                          0   \n",
       "\n",
       "             Purposre_Credit_Taken_A44  Purposre_Credit_Taken_A45  \\\n",
       "Customer_ID                                                         \n",
       "100001                               0                          0   \n",
       "100002                               0                          0   \n",
       "100003                               0                          0   \n",
       "100004                               0                          0   \n",
       "100005                               0                          0   \n",
       "...                                ...                        ...   \n",
       "104996                               0                          0   \n",
       "104997                               0                          0   \n",
       "104998                               0                          0   \n",
       "104999                               0                          0   \n",
       "105000                               0                          0   \n",
       "\n",
       "             Purposre_Credit_Taken_A46  Purposre_Credit_Taken_A48  ...  \\\n",
       "Customer_ID                                                        ...   \n",
       "100001                               0                          0  ...   \n",
       "100002                               0                          0  ...   \n",
       "100003                               1                          0  ...   \n",
       "100004                               0                          0  ...   \n",
       "100005                               0                          0  ...   \n",
       "...                                ...                        ...  ...   \n",
       "104996                               0                          0  ...   \n",
       "104997                               0                          0  ...   \n",
       "104998                               0                          0  ...   \n",
       "104999                               0                          0  ...   \n",
       "105000                               0                          0  ...   \n",
       "\n",
       "             Credit_amount_binned_B24  Credit_amount_binned_B25  \\\n",
       "Customer_ID                                                       \n",
       "100001                              0                         0   \n",
       "100002                              0                         0   \n",
       "100003                              0                         0   \n",
       "100004                              0                         0   \n",
       "100005                              0                         0   \n",
       "...                               ...                       ...   \n",
       "104996                              0                         0   \n",
       "104997                              0                         0   \n",
       "104998                              0                         0   \n",
       "104999                              0                         0   \n",
       "105000                              0                         0   \n",
       "\n",
       "             Credit_amount_binned_B26  Credit_amount_binned_B27  \\\n",
       "Customer_ID                                                       \n",
       "100001                              0                         0   \n",
       "100002                              0                         0   \n",
       "100003                              0                         0   \n",
       "100004                              0                         0   \n",
       "100005                              0                         0   \n",
       "...                               ...                       ...   \n",
       "104996                              0                         0   \n",
       "104997                              0                         0   \n",
       "104998                              0                         0   \n",
       "104999                              0                         0   \n",
       "105000                              0                         0   \n",
       "\n",
       "             Age_binned_B30  Age_binned_B31  Age_binned_B32  Age_binned_B33  \\\n",
       "Customer_ID                                                                   \n",
       "100001                    0               0               0               0   \n",
       "100002                    1               0               0               0   \n",
       "100003                    0               0               0               1   \n",
       "100004                    0               0               0               1   \n",
       "100005                    0               0               0               1   \n",
       "...                     ...             ...             ...             ...   \n",
       "104996                    0               1               0               0   \n",
       "104997                    0               0               1               0   \n",
       "104998                    0               0               1               0   \n",
       "104999                    1               0               0               0   \n",
       "105000                    0               1               0               0   \n",
       "\n",
       "             Age_binned_B34  Age_binned_B35  \n",
       "Customer_ID                                  \n",
       "100001                    0               1  \n",
       "100002                    0               0  \n",
       "100003                    0               0  \n",
       "100004                    0               0  \n",
       "100005                    0               0  \n",
       "...                     ...             ...  \n",
       "104996                    0               0  \n",
       "104997                    0               0  \n",
       "104998                    0               0  \n",
       "104999                    0               0  \n",
       "105000                    0               0  \n",
       "\n",
       "[5000 rows x 42 columns]"
      ]
     },
     "execution_count": 10,
     "metadata": {},
     "output_type": "execute_result"
    }
   ],
   "source": [
    "NN_data"
   ]
  },
  {
   "cell_type": "code",
   "execution_count": 11,
   "metadata": {},
   "outputs": [],
   "source": [
    "data = NN_data.values\n",
    "X = data[:, 1:77]\n",
    "y = data[:, 0]"
   ]
  },
  {
   "cell_type": "code",
   "execution_count": 12,
   "metadata": {},
   "outputs": [
    {
     "data": {
      "text/plain": [
       "((5000, 41), (5000,))"
      ]
     },
     "execution_count": 12,
     "metadata": {},
     "output_type": "execute_result"
    }
   ],
   "source": [
    "X.shape, y.shape"
   ]
  },
  {
   "cell_type": "code",
   "execution_count": 13,
   "metadata": {},
   "outputs": [
    {
     "data": {
      "text/plain": [
       "array([0, 0, 0, 0, 1, 0, 0, 0, 0, 0, 0, 0, 0, 0, 1, 1, 0, 0, 0, 1, 0, 1,\n",
       "       0, 0, 0, 0, 0, 1, 0, 0, 0, 0, 0, 0, 0, 0, 0, 0, 0, 0, 1],\n",
       "      dtype=int64)"
      ]
     },
     "execution_count": 13,
     "metadata": {},
     "output_type": "execute_result"
    }
   ],
   "source": [
    "X[0]"
   ]
  },
  {
   "cell_type": "code",
   "execution_count": 14,
   "metadata": {},
   "outputs": [
    {
     "data": {
      "text/plain": [
       "array([[1., 0.],\n",
       "       [1., 0.],\n",
       "       [1., 0.],\n",
       "       ...,\n",
       "       [1., 0.],\n",
       "       [0., 1.],\n",
       "       [1., 0.]], dtype=float32)"
      ]
     },
     "execution_count": 14,
     "metadata": {},
     "output_type": "execute_result"
    }
   ],
   "source": [
    "# one-hot encode y (y data is already label encoded)\n",
    "one_hot_y = to_categorical(y)\n",
    "one_hot_y"
   ]
  },
  {
   "cell_type": "code",
   "execution_count": 15,
   "metadata": {},
   "outputs": [
    {
     "data": {
      "text/plain": [
       "array([1., 0.], dtype=float32)"
      ]
     },
     "execution_count": 15,
     "metadata": {},
     "output_type": "execute_result"
    }
   ],
   "source": [
    "one_hot_y[0]"
   ]
  },
  {
   "cell_type": "code",
   "execution_count": 16,
   "metadata": {},
   "outputs": [],
   "source": [
    "#split data to train and test\n",
    "from sklearn.model_selection import train_test_split\n",
    "\n",
    "X_train, X_test, y_train, y_test = train_test_split(X, one_hot_y, random_state=1)"
   ]
  },
  {
   "cell_type": "code",
   "execution_count": 17,
   "metadata": {},
   "outputs": [
    {
     "data": {
      "text/plain": [
       "((3750, 41), (1250, 41), (3750, 2), (1250, 2))"
      ]
     },
     "execution_count": 17,
     "metadata": {},
     "output_type": "execute_result"
    }
   ],
   "source": [
    "X_train.shape, X_test.shape, y_train.shape, y_test.shape"
   ]
  },
  {
   "cell_type": "code",
   "execution_count": 18,
   "metadata": {},
   "outputs": [
    {
     "name": "stdout",
     "output_type": "stream",
     "text": [
      "WARNING:tensorflow:From C:\\Users\\cgilb\\Anaconda3\\envs\\PythonData\\lib\\site-packages\\tensorflow\\python\\ops\\init_ops.py:1251: calling VarianceScaling.__init__ (from tensorflow.python.ops.init_ops) with dtype is deprecated and will be removed in a future version.\n",
      "Instructions for updating:\n",
      "Call initializer instance with the dtype argument instead of passing it to the constructor\n"
     ]
    }
   ],
   "source": [
    "# create basic single hidden layer model to test (ignore future version warning)\n",
    "from tensorflow.keras.models import Sequential\n",
    "from tensorflow.keras.layers import Dense\n",
    "\n",
    "model_TEST = Sequential()\n",
    "model_TEST.add(Dense(units=51, activation='relu', input_dim=41))\n",
    "model_TEST.add(Dense(units=51, activation='relu'))\n",
    "model_TEST.add(Dense(units=51, activation='relu'))\n",
    "model_TEST.add(Dense(units=2, activation='softmax'))"
   ]
  },
  {
   "cell_type": "code",
   "execution_count": 19,
   "metadata": {
    "scrolled": true
   },
   "outputs": [
    {
     "name": "stdout",
     "output_type": "stream",
     "text": [
      "Model: \"sequential\"\n",
      "_________________________________________________________________\n",
      "Layer (type)                 Output Shape              Param #   \n",
      "=================================================================\n",
      "dense (Dense)                (None, 51)                2142      \n",
      "_________________________________________________________________\n",
      "dense_1 (Dense)              (None, 51)                2652      \n",
      "_________________________________________________________________\n",
      "dense_2 (Dense)              (None, 51)                2652      \n",
      "_________________________________________________________________\n",
      "dense_3 (Dense)              (None, 2)                 104       \n",
      "=================================================================\n",
      "Total params: 7,550\n",
      "Trainable params: 7,550\n",
      "Non-trainable params: 0\n",
      "_________________________________________________________________\n"
     ]
    }
   ],
   "source": [
    "model_TEST.summary()"
   ]
  },
  {
   "cell_type": "code",
   "execution_count": 20,
   "metadata": {},
   "outputs": [],
   "source": [
    "# Compile the model\n",
    "model_TEST.compile(optimizer='adam',\n",
    "              loss='binary_crossentropy',\n",
    "              metrics=['accuracy'])"
   ]
  },
  {
   "cell_type": "code",
   "execution_count": 21,
   "metadata": {},
   "outputs": [
    {
     "name": "stdout",
     "output_type": "stream",
     "text": [
      "WARNING:tensorflow:From C:\\Users\\cgilb\\Anaconda3\\envs\\PythonData\\lib\\site-packages\\tensorflow\\python\\ops\\math_grad.py:1250: add_dispatch_support.<locals>.wrapper (from tensorflow.python.ops.array_ops) is deprecated and will be removed in a future version.\n",
      "Instructions for updating:\n",
      "Use tf.where in 2.0, which has the same broadcast rule as np.where\n",
      "Epoch 1/100\n",
      "3750/3750 - 0s - loss: 0.5773 - acc: 0.6997\n",
      "Epoch 2/100\n",
      "3750/3750 - 0s - loss: 0.5006 - acc: 0.7560\n",
      "Epoch 3/100\n",
      "3750/3750 - 0s - loss: 0.4444 - acc: 0.7867\n",
      "Epoch 4/100\n",
      "3750/3750 - 0s - loss: 0.3886 - acc: 0.8227\n",
      "Epoch 5/100\n",
      "3750/3750 - 0s - loss: 0.3408 - acc: 0.8499\n",
      "Epoch 6/100\n",
      "3750/3750 - 0s - loss: 0.2934 - acc: 0.8752\n",
      "Epoch 7/100\n",
      "3750/3750 - 0s - loss: 0.2688 - acc: 0.8819\n",
      "Epoch 8/100\n",
      "3750/3750 - 0s - loss: 0.2366 - acc: 0.8981\n",
      "Epoch 9/100\n",
      "3750/3750 - 0s - loss: 0.2216 - acc: 0.9064\n",
      "Epoch 10/100\n",
      "3750/3750 - 0s - loss: 0.2098 - acc: 0.9104\n",
      "Epoch 11/100\n",
      "3750/3750 - 0s - loss: 0.2024 - acc: 0.9107\n",
      "Epoch 12/100\n",
      "3750/3750 - 0s - loss: 0.1844 - acc: 0.9200\n",
      "Epoch 13/100\n",
      "3750/3750 - 0s - loss: 0.1910 - acc: 0.9152\n",
      "Epoch 14/100\n",
      "3750/3750 - 0s - loss: 0.1808 - acc: 0.9163\n",
      "Epoch 15/100\n",
      "3750/3750 - 0s - loss: 0.1783 - acc: 0.9213\n",
      "Epoch 16/100\n",
      "3750/3750 - 0s - loss: 0.1696 - acc: 0.9197\n",
      "Epoch 17/100\n",
      "3750/3750 - 0s - loss: 0.1656 - acc: 0.9251\n",
      "Epoch 18/100\n",
      "3750/3750 - 0s - loss: 0.1724 - acc: 0.9195\n",
      "Epoch 19/100\n",
      "3750/3750 - 0s - loss: 0.1637 - acc: 0.9229\n",
      "Epoch 20/100\n",
      "3750/3750 - 0s - loss: 0.1600 - acc: 0.9243\n",
      "Epoch 21/100\n",
      "3750/3750 - 0s - loss: 0.1612 - acc: 0.9237\n",
      "Epoch 22/100\n",
      "3750/3750 - 0s - loss: 0.1585 - acc: 0.9251\n",
      "Epoch 23/100\n",
      "3750/3750 - 0s - loss: 0.1601 - acc: 0.9224\n",
      "Epoch 24/100\n",
      "3750/3750 - 0s - loss: 0.1612 - acc: 0.9237\n",
      "Epoch 25/100\n",
      "3750/3750 - 0s - loss: 0.1557 - acc: 0.9253\n",
      "Epoch 26/100\n",
      "3750/3750 - 0s - loss: 0.1574 - acc: 0.9232\n",
      "Epoch 27/100\n",
      "3750/3750 - 0s - loss: 0.1562 - acc: 0.9227\n",
      "Epoch 28/100\n",
      "3750/3750 - 0s - loss: 0.1599 - acc: 0.9216\n",
      "Epoch 29/100\n",
      "3750/3750 - 0s - loss: 0.1560 - acc: 0.9245\n",
      "Epoch 30/100\n",
      "3750/3750 - 0s - loss: 0.1547 - acc: 0.9224\n",
      "Epoch 31/100\n",
      "3750/3750 - 0s - loss: 0.1542 - acc: 0.9224\n",
      "Epoch 32/100\n",
      "3750/3750 - 0s - loss: 0.1612 - acc: 0.9227\n",
      "Epoch 33/100\n",
      "3750/3750 - 0s - loss: 0.1510 - acc: 0.9253\n",
      "Epoch 34/100\n",
      "3750/3750 - 0s - loss: 0.1531 - acc: 0.9232\n",
      "Epoch 35/100\n",
      "3750/3750 - 0s - loss: 0.1515 - acc: 0.9219\n",
      "Epoch 36/100\n",
      "3750/3750 - 0s - loss: 0.1498 - acc: 0.9243\n",
      "Epoch 37/100\n",
      "3750/3750 - 0s - loss: 0.1510 - acc: 0.9256\n",
      "Epoch 38/100\n",
      "3750/3750 - 0s - loss: 0.1526 - acc: 0.9200\n",
      "Epoch 39/100\n",
      "3750/3750 - 0s - loss: 0.1528 - acc: 0.9203\n",
      "Epoch 40/100\n",
      "3750/3750 - 0s - loss: 0.1466 - acc: 0.9259\n",
      "Epoch 41/100\n",
      "3750/3750 - 0s - loss: 0.1481 - acc: 0.9280\n",
      "Epoch 42/100\n",
      "3750/3750 - 0s - loss: 0.1504 - acc: 0.9248\n",
      "Epoch 43/100\n",
      "3750/3750 - 0s - loss: 0.1492 - acc: 0.9253\n",
      "Epoch 44/100\n",
      "3750/3750 - 0s - loss: 0.1486 - acc: 0.9251\n",
      "Epoch 45/100\n",
      "3750/3750 - 0s - loss: 0.1504 - acc: 0.9224\n",
      "Epoch 46/100\n",
      "3750/3750 - 0s - loss: 0.1485 - acc: 0.9227\n",
      "Epoch 47/100\n",
      "3750/3750 - 0s - loss: 0.1480 - acc: 0.9245\n",
      "Epoch 48/100\n",
      "3750/3750 - 0s - loss: 0.1473 - acc: 0.9213\n",
      "Epoch 49/100\n",
      "3750/3750 - 0s - loss: 0.1450 - acc: 0.9251\n",
      "Epoch 50/100\n",
      "3750/3750 - 0s - loss: 0.1460 - acc: 0.9256\n",
      "Epoch 51/100\n",
      "3750/3750 - 0s - loss: 0.1454 - acc: 0.9237\n",
      "Epoch 52/100\n",
      "3750/3750 - 0s - loss: 0.1444 - acc: 0.9264\n",
      "Epoch 53/100\n",
      "3750/3750 - 0s - loss: 0.1455 - acc: 0.9261\n",
      "Epoch 54/100\n",
      "3750/3750 - 0s - loss: 0.1511 - acc: 0.9259\n",
      "Epoch 55/100\n",
      "3750/3750 - 0s - loss: 0.1433 - acc: 0.9275\n",
      "Epoch 56/100\n",
      "3750/3750 - 0s - loss: 0.1443 - acc: 0.9264\n",
      "Epoch 57/100\n",
      "3750/3750 - 0s - loss: 0.1441 - acc: 0.9277\n",
      "Epoch 58/100\n",
      "3750/3750 - 0s - loss: 0.1439 - acc: 0.9251\n",
      "Epoch 59/100\n",
      "3750/3750 - 0s - loss: 0.1405 - acc: 0.9288\n",
      "Epoch 60/100\n",
      "3750/3750 - 0s - loss: 0.1413 - acc: 0.9285\n",
      "Epoch 61/100\n",
      "3750/3750 - 0s - loss: 0.1448 - acc: 0.9248\n",
      "Epoch 62/100\n",
      "3750/3750 - 0s - loss: 0.1418 - acc: 0.9272\n",
      "Epoch 63/100\n",
      "3750/3750 - 0s - loss: 0.1420 - acc: 0.9283\n",
      "Epoch 64/100\n",
      "3750/3750 - 0s - loss: 0.1429 - acc: 0.9256\n",
      "Epoch 65/100\n",
      "3750/3750 - 0s - loss: 0.1413 - acc: 0.9275\n",
      "Epoch 66/100\n",
      "3750/3750 - 0s - loss: 0.1429 - acc: 0.9277\n",
      "Epoch 67/100\n",
      "3750/3750 - 0s - loss: 0.1420 - acc: 0.9267\n",
      "Epoch 68/100\n",
      "3750/3750 - 0s - loss: 0.1431 - acc: 0.9272\n",
      "Epoch 69/100\n",
      "3750/3750 - 0s - loss: 0.1410 - acc: 0.9267\n",
      "Epoch 70/100\n",
      "3750/3750 - 0s - loss: 0.1398 - acc: 0.9264\n",
      "Epoch 71/100\n",
      "3750/3750 - 0s - loss: 0.1393 - acc: 0.9253\n",
      "Epoch 72/100\n",
      "3750/3750 - 0s - loss: 0.1402 - acc: 0.9251\n",
      "Epoch 73/100\n",
      "3750/3750 - 0s - loss: 0.1376 - acc: 0.9267\n",
      "Epoch 74/100\n",
      "3750/3750 - 0s - loss: 0.1407 - acc: 0.9235\n",
      "Epoch 75/100\n",
      "3750/3750 - 0s - loss: 0.1385 - acc: 0.9283\n",
      "Epoch 76/100\n",
      "3750/3750 - 0s - loss: 0.1387 - acc: 0.9248\n",
      "Epoch 77/100\n",
      "3750/3750 - 0s - loss: 0.1393 - acc: 0.9269\n",
      "Epoch 78/100\n",
      "3750/3750 - 0s - loss: 0.1410 - acc: 0.9253\n",
      "Epoch 79/100\n",
      "3750/3750 - 0s - loss: 0.1386 - acc: 0.9259\n",
      "Epoch 80/100\n",
      "3750/3750 - 0s - loss: 0.1406 - acc: 0.9248\n",
      "Epoch 81/100\n",
      "3750/3750 - 0s - loss: 0.1384 - acc: 0.9280\n",
      "Epoch 82/100\n",
      "3750/3750 - 0s - loss: 0.1388 - acc: 0.9245\n",
      "Epoch 83/100\n",
      "3750/3750 - 0s - loss: 0.1390 - acc: 0.9253\n",
      "Epoch 84/100\n",
      "3750/3750 - 0s - loss: 0.1378 - acc: 0.9253\n",
      "Epoch 85/100\n",
      "3750/3750 - 0s - loss: 0.1380 - acc: 0.9259\n",
      "Epoch 86/100\n",
      "3750/3750 - 0s - loss: 0.1389 - acc: 0.9301\n",
      "Epoch 87/100\n",
      "3750/3750 - 0s - loss: 0.1357 - acc: 0.9336\n",
      "Epoch 88/100\n",
      "3750/3750 - 0s - loss: 0.1378 - acc: 0.9275\n",
      "Epoch 89/100\n",
      "3750/3750 - 0s - loss: 0.1362 - acc: 0.9275\n",
      "Epoch 90/100\n",
      "3750/3750 - 0s - loss: 0.1371 - acc: 0.9280\n",
      "Epoch 91/100\n",
      "3750/3750 - 0s - loss: 0.1369 - acc: 0.9277\n",
      "Epoch 92/100\n",
      "3750/3750 - 0s - loss: 0.1358 - acc: 0.9248\n",
      "Epoch 93/100\n",
      "3750/3750 - 0s - loss: 0.1367 - acc: 0.9280\n",
      "Epoch 94/100\n",
      "3750/3750 - 0s - loss: 0.1486 - acc: 0.9259\n",
      "Epoch 95/100\n",
      "3750/3750 - 0s - loss: 0.1726 - acc: 0.9211\n",
      "Epoch 96/100\n",
      "3750/3750 - 0s - loss: 0.1367 - acc: 0.9277\n",
      "Epoch 97/100\n",
      "3750/3750 - 0s - loss: 0.1349 - acc: 0.9267\n",
      "Epoch 98/100\n",
      "3750/3750 - 0s - loss: 0.1362 - acc: 0.9272\n",
      "Epoch 99/100\n",
      "3750/3750 - 0s - loss: 0.1351 - acc: 0.9285\n",
      "Epoch 100/100\n",
      "3750/3750 - 0s - loss: 0.1342 - acc: 0.9280\n"
     ]
    },
    {
     "data": {
      "text/plain": [
       "<tensorflow.python.keras.callbacks.History at 0x297c8dfb358>"
      ]
     },
     "execution_count": 21,
     "metadata": {},
     "output_type": "execute_result"
    }
   ],
   "source": [
    "# Fit the model to the training data\n",
    "model_TEST.fit(\n",
    "    X_train,\n",
    "    y_train,\n",
    "    epochs=100,\n",
    "    shuffle=True,\n",
    "    verbose=2\n",
    ")"
   ]
  },
  {
   "cell_type": "code",
   "execution_count": 22,
   "metadata": {},
   "outputs": [
    {
     "name": "stdout",
     "output_type": "stream",
     "text": [
      "1250/1250 - 0s - loss: 0.1462 - acc: 0.9168\n",
      "model_TEST - Loss: 0.14624075882434845, Accuracy: 0.9168000221252441\n"
     ]
    }
   ],
   "source": [
    "model_loss, model_accuracy = model_TEST.evaluate(\n",
    "    X_test, y_test, verbose=2)\n",
    "print(f\"model_TEST - Loss: {model_loss}, Accuracy: {model_accuracy}\")"
   ]
  },
  {
   "cell_type": "code",
   "execution_count": null,
   "metadata": {},
   "outputs": [],
   "source": []
  },
  {
   "cell_type": "code",
   "execution_count": null,
   "metadata": {},
   "outputs": [],
   "source": []
  },
  {
   "cell_type": "code",
   "execution_count": null,
   "metadata": {},
   "outputs": [],
   "source": []
  },
  {
   "cell_type": "code",
   "execution_count": null,
   "metadata": {},
   "outputs": [],
   "source": []
  },
  {
   "cell_type": "code",
   "execution_count": null,
   "metadata": {},
   "outputs": [],
   "source": []
  },
  {
   "cell_type": "code",
   "execution_count": null,
   "metadata": {},
   "outputs": [],
   "source": []
  },
  {
   "cell_type": "code",
   "execution_count": null,
   "metadata": {},
   "outputs": [],
   "source": []
  },
  {
   "cell_type": "code",
   "execution_count": null,
   "metadata": {},
   "outputs": [],
   "source": []
  },
  {
   "cell_type": "code",
   "execution_count": null,
   "metadata": {},
   "outputs": [],
   "source": []
  },
  {
   "cell_type": "code",
   "execution_count": null,
   "metadata": {},
   "outputs": [],
   "source": []
  },
  {
   "cell_type": "code",
   "execution_count": null,
   "metadata": {},
   "outputs": [],
   "source": []
  },
  {
   "cell_type": "code",
   "execution_count": null,
   "metadata": {},
   "outputs": [],
   "source": []
  },
  {
   "cell_type": "code",
   "execution_count": null,
   "metadata": {},
   "outputs": [],
   "source": []
  },
  {
   "cell_type": "code",
   "execution_count": null,
   "metadata": {},
   "outputs": [],
   "source": []
  },
  {
   "cell_type": "code",
   "execution_count": null,
   "metadata": {},
   "outputs": [],
   "source": []
  },
  {
   "cell_type": "code",
   "execution_count": null,
   "metadata": {},
   "outputs": [],
   "source": [
    "solo_test = np.expand_dims(X_test[0], axis=0)\n",
    "prediction = model_TEST.predict(solo_test).round()\n",
    "actual = y_test[0]\n",
    "\n",
    "print(prediction, actual)"
   ]
  },
  {
   "cell_type": "code",
   "execution_count": null,
   "metadata": {},
   "outputs": [],
   "source": [
    "solo_test_1 = np.expand_dims(X_train[0], axis=0)\n",
    "prediction_1 = model_TEST.predict(solo_test_1).round()\n",
    "actual_1 = y_train[0]\n",
    "\n",
    "print(prediction_1, actual_1)"
   ]
  },
  {
   "cell_type": "code",
   "execution_count": null,
   "metadata": {},
   "outputs": [],
   "source": [
    "solo_test_2 = np.expand_dims(X_train[14], axis=0)\n",
    "prediction_2 = model_TEST.predict(solo_test_2).round()\n",
    "actual_2 = y_train[14]\n",
    "\n",
    "print(prediction_2, actual_2)"
   ]
  },
  {
   "cell_type": "code",
   "execution_count": null,
   "metadata": {},
   "outputs": [],
   "source": [
    "solo_test_3 = np.expand_dims(X_train[52], axis=0)\n",
    "prediction_3 = model_TEST.predict(solo_test_3).round()\n",
    "actual_3 = y_train[52]\n",
    "\n",
    "print(prediction_3, actual_3)"
   ]
  },
  {
   "cell_type": "code",
   "execution_count": null,
   "metadata": {},
   "outputs": [],
   "source": [
    "solo_test_4 = np.expand_dims(X_train[250], axis=0)\n",
    "prediction_4 = model_TEST.predict(solo_test_4).round()\n",
    "actual_4 = y_train[250]\n",
    "\n",
    "print(prediction_4, actual_4)"
   ]
  },
  {
   "cell_type": "code",
   "execution_count": null,
   "metadata": {},
   "outputs": [],
   "source": [
    "solo_test_5 = np.expand_dims(X_train[142], axis=0)\n",
    "prediction_5 = model_TEST.predict(solo_test_5).round()\n",
    "actual_5 = y_train[142]\n",
    "\n",
    "print(prediction_5, actual_5)"
   ]
  },
  {
   "cell_type": "code",
   "execution_count": null,
   "metadata": {},
   "outputs": [],
   "source": [
    "solo_test_6 = np.expand_dims(X_train[2012], axis=0)\n",
    "prediction_6 = model_TEST.predict(solo_test_6).round()\n",
    "actual_6 = y_train[2012]\n",
    "\n",
    "print(prediction_6, actual_6)"
   ]
  },
  {
   "cell_type": "code",
   "execution_count": null,
   "metadata": {},
   "outputs": [],
   "source": [
    "solo_test_7 = np.expand_dims(X_train[1564], axis=0)\n",
    "prediction_7 = model_TEST.predict(solo_test_7).round()\n",
    "actual_7 = y_train[1564]\n",
    "\n",
    "print(prediction_7, actual_7)"
   ]
  },
  {
   "cell_type": "code",
   "execution_count": null,
   "metadata": {},
   "outputs": [],
   "source": [
    "solo_test_8 = np.expand_dims(X_train[854], axis=0)\n",
    "prediction_8 = model_TEST.predict(solo_test_8).round()\n",
    "actual_8 = y_train[854]\n",
    "\n",
    "print(prediction_8, actual_8)"
   ]
  },
  {
   "cell_type": "code",
   "execution_count": null,
   "metadata": {},
   "outputs": [],
   "source": [
    "solo_test_9 = np.expand_dims(X_train[2568], axis=0)\n",
    "prediction_9 = model_TEST.predict(solo_test_9).round()\n",
    "actual_9 = y_train[2568]\n",
    "\n",
    "print(prediction_9, actual_9)"
   ]
  },
  {
   "cell_type": "code",
   "execution_count": null,
   "metadata": {},
   "outputs": [],
   "source": [
    "solo_test_10 = np.expand_dims(X_train[3125], axis=0)\n",
    "prediction_10 = model_TEST.predict(solo_test_10).round()\n",
    "actual_10 = y_train[3125]\n",
    "\n",
    "print(prediction_10, actual_10)"
   ]
  },
  {
   "cell_type": "code",
   "execution_count": null,
   "metadata": {},
   "outputs": [],
   "source": [
    "solo_test_11 = np.expand_dims(X_train[2145], axis=0)\n",
    "prediction_11 = model_TEST.predict(solo_test_11).round()\n",
    "actual_11 = y_train[2145]\n",
    "\n",
    "print(prediction_11, actual_11)"
   ]
  },
  {
   "cell_type": "code",
   "execution_count": null,
   "metadata": {},
   "outputs": [],
   "source": [
    "solo_test_12 = np.expand_dims(X_train[896], axis=0)\n",
    "prediction_12 = model_TEST.predict(solo_test_12).round()\n",
    "actual_12 = y_train[896]\n",
    "\n",
    "print(prediction_12, actual_12)"
   ]
  },
  {
   "cell_type": "code",
   "execution_count": null,
   "metadata": {},
   "outputs": [],
   "source": [
    "solo_test_13 = np.expand_dims(X_train[1596], axis=0)\n",
    "prediction_13 = model_TEST.predict(solo_test_13).round()\n",
    "actual_13 = y_train[1596]\n",
    "\n",
    "print(prediction_13, actual_13)"
   ]
  },
  {
   "cell_type": "code",
   "execution_count": null,
   "metadata": {},
   "outputs": [],
   "source": [
    "solo_test_14 = np.expand_dims(X_train[2854], axis=0)\n",
    "prediction_14 = model_TEST.predict(solo_test_14).round()\n",
    "actual_14 = y_train[2854]\n",
    "\n",
    "print(prediction_14, actual_14)"
   ]
  },
  {
   "cell_type": "code",
   "execution_count": null,
   "metadata": {},
   "outputs": [],
   "source": [
    "solo_test_15 = np.expand_dims(X_train[497], axis=0)\n",
    "prediction_15 = model_TEST.predict(solo_test_15).round()\n",
    "actual_15 = y_train[497]\n",
    "\n",
    "print(prediction_15, actual_15)"
   ]
  },
  {
   "cell_type": "code",
   "execution_count": null,
   "metadata": {},
   "outputs": [],
   "source": [
    "solo_test_16 = np.expand_dims(X_train[2874], axis=0)\n",
    "prediction_16 = model_TEST.predict(solo_test_16).round()\n",
    "actual_16 = y_train[2874]\n",
    "\n",
    "print(prediction_16, actual_16)"
   ]
  },
  {
   "cell_type": "code",
   "execution_count": null,
   "metadata": {},
   "outputs": [],
   "source": [
    "solo_test_17 = np.expand_dims(X_train[1863], axis=0)\n",
    "prediction_17 = model_TEST.predict(solo_test_17).round()\n",
    "actual_17 = y_train[1863]\n",
    "\n",
    "print(prediction_17, actual_17)"
   ]
  },
  {
   "cell_type": "code",
   "execution_count": null,
   "metadata": {},
   "outputs": [],
   "source": [
    "solo_test_18 = np.expand_dims(X_train[1678], axis=0)\n",
    "prediction_18 = model_TEST.predict(solo_test_18).round()\n",
    "actual_18 = y_train[1678]\n",
    "\n",
    "print(prediction_18, actual_18)"
   ]
  },
  {
   "cell_type": "code",
   "execution_count": null,
   "metadata": {},
   "outputs": [],
   "source": [
    "solo_test_19 = np.expand_dims(X_train[1354], axis=0)\n",
    "prediction_19 = model_TEST.predict(solo_test_19).round()\n",
    "actual_19 = y_train[1354]\n",
    "\n",
    "print(prediction_19, actual_19)"
   ]
  },
  {
   "cell_type": "code",
   "execution_count": null,
   "metadata": {},
   "outputs": [],
   "source": [
    "solo_test_20 = np.expand_dims(X_train[987], axis=0)\n",
    "prediction_20 = model_TEST.predict(solo_test_20).round()\n",
    "actual_20 = y_train[987]\n",
    "\n",
    "print(prediction_20, actual_20)"
   ]
  },
  {
   "cell_type": "code",
   "execution_count": null,
   "metadata": {},
   "outputs": [],
   "source": [
    "solo_test_21 = np.expand_dims(X_test[756], axis=0)\n",
    "prediction_21 = model_TEST.predict(solo_test_21).round()\n",
    "actual_21 = y_test[756]\n",
    "\n",
    "print(prediction_21, actual_21)"
   ]
  },
  {
   "cell_type": "code",
   "execution_count": null,
   "metadata": {},
   "outputs": [],
   "source": [
    "solo_test_22 = np.expand_dims(X_test[256], axis=0)\n",
    "prediction_22 = model_TEST.predict(solo_test_22).round()\n",
    "actual_22 = y_test[256]\n",
    "\n",
    "print(prediction_22, actual_22)"
   ]
  },
  {
   "cell_type": "code",
   "execution_count": null,
   "metadata": {},
   "outputs": [],
   "source": [
    "solo_test_23 = np.expand_dims(X_test[187], axis=0)\n",
    "prediction_23 = model_TEST.predict(solo_test_23).round()\n",
    "actual_23 = y_test[187]\n",
    "\n",
    "print(prediction_23, actual_23)"
   ]
  },
  {
   "cell_type": "code",
   "execution_count": null,
   "metadata": {},
   "outputs": [],
   "source": [
    "solo_test_24 = np.expand_dims(X_test[985], axis=0)\n",
    "prediction_24 = model_TEST.predict(solo_test_24).round()\n",
    "actual_24 = y_test[985]\n",
    "\n",
    "print(prediction_24, actual_24)"
   ]
  },
  {
   "cell_type": "code",
   "execution_count": null,
   "metadata": {},
   "outputs": [],
   "source": [
    "solo_test_25 = np.expand_dims(X_test[537], axis=0)\n",
    "prediction_25 = model_TEST.predict(solo_test_25).round()\n",
    "actual_25 = y_test[537]\n",
    "\n",
    "print(prediction_25, actual_25)"
   ]
  },
  {
   "cell_type": "code",
   "execution_count": null,
   "metadata": {},
   "outputs": [],
   "source": [
    "solo_test_26 = np.expand_dims(X_test[1239], axis=0)\n",
    "prediction_26 = model_TEST.predict(solo_test_26).round()\n",
    "actual_26 = y_test[1239]\n",
    "\n",
    "print(prediction_26, actual_26)"
   ]
  },
  {
   "cell_type": "code",
   "execution_count": null,
   "metadata": {},
   "outputs": [],
   "source": [
    "solo_test_27 = np.expand_dims(X_test[678], axis=0)\n",
    "prediction_27 = model_TEST.predict(solo_test_27).round()\n",
    "actual_27 = y_test[678]\n",
    "\n",
    "print(prediction_27, actual_27)"
   ]
  },
  {
   "cell_type": "code",
   "execution_count": null,
   "metadata": {},
   "outputs": [],
   "source": [
    "solo_test_28 = np.expand_dims(X_test[396], axis=0)\n",
    "prediction_28 = model_TEST.predict(solo_test_28).round()\n",
    "actual_28 = y_test[396]\n",
    "\n",
    "print(prediction_28, actual_28)"
   ]
  },
  {
   "cell_type": "code",
   "execution_count": null,
   "metadata": {},
   "outputs": [],
   "source": [
    "solo_test_29 = np.expand_dims(X_test[742], axis=0)\n",
    "prediction_29 = model_TEST.predict(solo_test_29).round()\n",
    "actual_29 = y_test[742]\n",
    "\n",
    "print(prediction_29, actual_29)"
   ]
  },
  {
   "cell_type": "code",
   "execution_count": null,
   "metadata": {},
   "outputs": [],
   "source": [
    "solo_test_30 = np.expand_dims(X_test[864], axis=0)\n",
    "prediction_30 = model_TEST.predict(solo_test_30).round()\n",
    "actual_30 = y_test[864]\n",
    "\n",
    "print(prediction_30, actual_30)"
   ]
  },
  {
   "cell_type": "code",
   "execution_count": null,
   "metadata": {},
   "outputs": [],
   "source": []
  },
  {
   "cell_type": "code",
   "execution_count": null,
   "metadata": {},
   "outputs": [],
   "source": []
  },
  {
   "cell_type": "code",
   "execution_count": null,
   "metadata": {},
   "outputs": [],
   "source": []
  },
  {
   "cell_type": "raw",
   "metadata": {},
   "source": [
    "# tvars = model_TEST.trainable_variables()\n",
    "# tvars_vals = sess.run(tvars)\n",
    "\n",
    "# for var, val in zip(tvars, tvars_vals):\n",
    "     # print(\"var: {}, value: {}\".format(var.name, val))"
   ]
  },
  {
   "cell_type": "raw",
   "metadata": {},
   "source": [
    "# notes for questions/changes to the modeling techniques:\n",
    "\n",
    "# BOTH COMPILE METHODOLOGIES SEEM TO OBTAIN (ROUGHLY) THE SAME RESULTS:\n",
    "\n",
    "# model_TEST.compile(optimizer='adam',\n",
    "             # loss='categorical_crossentropy',\n",
    "             # metrics=['accuracy'])\n",
    "        \n",
    "# model_TEST.compile(optimizer='rmsprop',\n",
    "              # loss='binary_crossentropy',\n",
    "              # metrics=['accuracy'])"
   ]
  },
  {
   "cell_type": "raw",
   "metadata": {},
   "source": [
    "# finding weights used for prediction (this looks like it is only for SVC models)\n",
    "\n",
    "# weights = PermutationImportance(model_TEST, random_state=1)\n",
    "\n",
    "#eli5.show_weights(weights, feature_names = X.columns.tolist())\n",
    "    # AttributeError: 'numpy.ndarray' object has no attribute 'columns'\n",
    "\n",
    "\n",
    "    \n",
    "# saliency maps for CNN seems like it would be much more challenging, but there are simple tools for this\n",
    "\n",
    "\n",
    "\n",
    "# tvars = model_TEST.trainable_variables()\n",
    "# tvars_vals = sess.run(tvars)\n",
    "\n",
    "# for var, val in zip(tvars, tvars_vals):\n",
    "     # print(\"var: {}, value: {}\".format(var.name, val))"
   ]
  }
 ],
 "metadata": {
  "kernelspec": {
   "display_name": "Python [conda env:PythonData] *",
   "language": "python",
   "name": "conda-env-PythonData-py"
  },
  "language_info": {
   "codemirror_mode": {
    "name": "ipython",
    "version": 3
   },
   "file_extension": ".py",
   "mimetype": "text/x-python",
   "name": "python",
   "nbconvert_exporter": "python",
   "pygments_lexer": "ipython3",
   "version": "3.6.9"
  }
 },
 "nbformat": 4,
 "nbformat_minor": 2
}
