{
 "cells": [
  {
   "cell_type": "code",
   "execution_count": 10,
   "metadata": {},
   "outputs": [
    {
     "data": {
      "text/plain": [
       "Index(['Customer_ID', 'Num_CC', 'Dependents', 'Status_Checking_Acc',\n",
       "       'Credit_History', 'Purposre_Credit_Taken', 'Savings_Acc',\n",
       "       'Years_At_Present_Employment', 'Marital_Status_Gender',\n",
       "       'Other_Debtors_Guarantors', 'Other_Inst_Plans ', 'Housing', 'Job',\n",
       "       'Telephone', 'Foreign_Worker', 'Duration_binned',\n",
       "       'Credit_amount_binned', 'Age_binned', 'Default_On_Payment'],\n",
       "      dtype='object')"
      ]
     },
     "execution_count": 10,
     "metadata": {},
     "output_type": "execute_result"
    }
   ],
   "source": [
    "import os\n",
    "import pandas as pd\n",
    "import numpy as np\n",
    "from sklearn.preprocessing import LabelEncoder\n",
    "from tensorflow.keras.utils import to_categorical\n",
    "\n",
    "# load NN_dataset\n",
    "filepath = \"NN_dataset.csv\"\n",
    "NN_data = pd.read_csv(filepath)\n",
    "NN_data.columns"
   ]
  },
  {
   "cell_type": "code",
   "execution_count": 11,
   "metadata": {},
   "outputs": [],
   "source": [
    "# set Customer_ID as index\n",
    "NN_data.set_index('Customer_ID',inplace=True)"
   ]
  },
  {
   "cell_type": "code",
   "execution_count": 12,
   "metadata": {},
   "outputs": [
    {
     "data": {
      "text/plain": [
       "Num_CC                          int64\n",
       "Dependents                      int64\n",
       "Status_Checking_Acc            object\n",
       "Credit_History                 object\n",
       "Purposre_Credit_Taken          object\n",
       "Savings_Acc                    object\n",
       "Years_At_Present_Employment    object\n",
       "Marital_Status_Gender          object\n",
       "Other_Debtors_Guarantors       object\n",
       "Other_Inst_Plans               object\n",
       "Housing                        object\n",
       "Job                            object\n",
       "Telephone                      object\n",
       "Foreign_Worker                 object\n",
       "Duration_binned                object\n",
       "Credit_amount_binned           object\n",
       "Age_binned                     object\n",
       "Default_On_Payment              int64\n",
       "dtype: object"
      ]
     },
     "execution_count": 12,
     "metadata": {},
     "output_type": "execute_result"
    }
   ],
   "source": [
    "NN_data.dtypes"
   ]
  },
  {
   "cell_type": "code",
   "execution_count": 13,
   "metadata": {},
   "outputs": [],
   "source": [
    "NN_data['Num_CC'] = NN_data['Num_CC'].astype(str)\n",
    "NN_data['Dependents'] = NN_data['Dependents'].astype(str)"
   ]
  },
  {
   "cell_type": "code",
   "execution_count": 14,
   "metadata": {},
   "outputs": [
    {
     "data": {
      "text/plain": [
       "Num_CC                         object\n",
       "Dependents                     object\n",
       "Status_Checking_Acc            object\n",
       "Credit_History                 object\n",
       "Purposre_Credit_Taken          object\n",
       "Savings_Acc                    object\n",
       "Years_At_Present_Employment    object\n",
       "Marital_Status_Gender          object\n",
       "Other_Debtors_Guarantors       object\n",
       "Other_Inst_Plans               object\n",
       "Housing                        object\n",
       "Job                            object\n",
       "Telephone                      object\n",
       "Foreign_Worker                 object\n",
       "Duration_binned                object\n",
       "Credit_amount_binned           object\n",
       "Age_binned                     object\n",
       "Default_On_Payment              int64\n",
       "dtype: object"
      ]
     },
     "execution_count": 14,
     "metadata": {},
     "output_type": "execute_result"
    }
   ],
   "source": [
    "NN_data.dtypes"
   ]
  },
  {
   "cell_type": "code",
   "execution_count": 15,
   "metadata": {},
   "outputs": [],
   "source": [
    "NN_data = NN_data.drop(columns=['Num_CC', 'Dependents', 'Status_Checking_Acc', 'Credit_History', 'Savings_Acc', 'Marital_Status_Gender', 'Other_Inst_Plans ', 'Job',\n",
    "       'Telephone', 'Foreign_Worker'])"
   ]
  },
  {
   "cell_type": "code",
   "execution_count": 16,
   "metadata": {},
   "outputs": [
    {
     "data": {
      "text/plain": [
       "Purposre_Credit_Taken          object\n",
       "Years_At_Present_Employment    object\n",
       "Other_Debtors_Guarantors       object\n",
       "Housing                        object\n",
       "Duration_binned                object\n",
       "Credit_amount_binned           object\n",
       "Age_binned                     object\n",
       "Default_On_Payment              int64\n",
       "dtype: object"
      ]
     },
     "execution_count": 16,
     "metadata": {},
     "output_type": "execute_result"
    }
   ],
   "source": [
    "NN_data.dtypes"
   ]
  },
  {
   "cell_type": "code",
   "execution_count": 17,
   "metadata": {},
   "outputs": [
    {
     "data": {
      "text/plain": [
       "Index(['Purposre_Credit_Taken', 'Years_At_Present_Employment',\n",
       "       'Other_Debtors_Guarantors', 'Housing', 'Duration_binned',\n",
       "       'Credit_amount_binned', 'Age_binned', 'Default_On_Payment'],\n",
       "      dtype='object')"
      ]
     },
     "execution_count": 17,
     "metadata": {},
     "output_type": "execute_result"
    }
   ],
   "source": [
    "NN_data.columns"
   ]
  },
  {
   "cell_type": "code",
   "execution_count": 18,
   "metadata": {},
   "outputs": [
    {
     "data": {
      "text/html": [
       "<div>\n",
       "<style scoped>\n",
       "    .dataframe tbody tr th:only-of-type {\n",
       "        vertical-align: middle;\n",
       "    }\n",
       "\n",
       "    .dataframe tbody tr th {\n",
       "        vertical-align: top;\n",
       "    }\n",
       "\n",
       "    .dataframe thead th {\n",
       "        text-align: right;\n",
       "    }\n",
       "</style>\n",
       "<table border=\"1\" class=\"dataframe\">\n",
       "  <thead>\n",
       "    <tr style=\"text-align: right;\">\n",
       "      <th></th>\n",
       "      <th>Purposre_Credit_Taken</th>\n",
       "      <th>Years_At_Present_Employment</th>\n",
       "      <th>Other_Debtors_Guarantors</th>\n",
       "      <th>Housing</th>\n",
       "      <th>Duration_binned</th>\n",
       "      <th>Credit_amount_binned</th>\n",
       "      <th>Age_binned</th>\n",
       "      <th>Default_On_Payment</th>\n",
       "    </tr>\n",
       "    <tr>\n",
       "      <th>Customer_ID</th>\n",
       "      <th></th>\n",
       "      <th></th>\n",
       "      <th></th>\n",
       "      <th></th>\n",
       "      <th></th>\n",
       "      <th></th>\n",
       "      <th></th>\n",
       "      <th></th>\n",
       "    </tr>\n",
       "  </thead>\n",
       "  <tbody>\n",
       "    <tr>\n",
       "      <td>100001</td>\n",
       "      <td>A43</td>\n",
       "      <td>A75</td>\n",
       "      <td>A101</td>\n",
       "      <td>A152</td>\n",
       "      <td>B10</td>\n",
       "      <td>B20</td>\n",
       "      <td>B35</td>\n",
       "      <td>0</td>\n",
       "    </tr>\n",
       "    <tr>\n",
       "      <td>100002</td>\n",
       "      <td>A43</td>\n",
       "      <td>A73</td>\n",
       "      <td>A101</td>\n",
       "      <td>A152</td>\n",
       "      <td>B14</td>\n",
       "      <td>B22</td>\n",
       "      <td>B30</td>\n",
       "      <td>0</td>\n",
       "    </tr>\n",
       "    <tr>\n",
       "      <td>100003</td>\n",
       "      <td>A46</td>\n",
       "      <td>A74</td>\n",
       "      <td>A101</td>\n",
       "      <td>A152</td>\n",
       "      <td>B11</td>\n",
       "      <td>B20</td>\n",
       "      <td>B33</td>\n",
       "      <td>0</td>\n",
       "    </tr>\n",
       "    <tr>\n",
       "      <td>100004</td>\n",
       "      <td>A42</td>\n",
       "      <td>A74</td>\n",
       "      <td>A103</td>\n",
       "      <td>A153</td>\n",
       "      <td>B13</td>\n",
       "      <td>B23</td>\n",
       "      <td>B33</td>\n",
       "      <td>0</td>\n",
       "    </tr>\n",
       "    <tr>\n",
       "      <td>100005</td>\n",
       "      <td>A40</td>\n",
       "      <td>A73</td>\n",
       "      <td>A101</td>\n",
       "      <td>A153</td>\n",
       "      <td>B12</td>\n",
       "      <td>B21</td>\n",
       "      <td>B33</td>\n",
       "      <td>1</td>\n",
       "    </tr>\n",
       "  </tbody>\n",
       "</table>\n",
       "</div>"
      ],
      "text/plain": [
       "            Purposre_Credit_Taken Years_At_Present_Employment  \\\n",
       "Customer_ID                                                     \n",
       "100001                        A43                         A75   \n",
       "100002                        A43                         A73   \n",
       "100003                        A46                         A74   \n",
       "100004                        A42                         A74   \n",
       "100005                        A40                         A73   \n",
       "\n",
       "            Other_Debtors_Guarantors Housing Duration_binned  \\\n",
       "Customer_ID                                                    \n",
       "100001                          A101    A152             B10   \n",
       "100002                          A101    A152             B14   \n",
       "100003                          A101    A152             B11   \n",
       "100004                          A103    A153             B13   \n",
       "100005                          A101    A153             B12   \n",
       "\n",
       "            Credit_amount_binned Age_binned  Default_On_Payment  \n",
       "Customer_ID                                                      \n",
       "100001                       B20        B35                   0  \n",
       "100002                       B22        B30                   0  \n",
       "100003                       B20        B33                   0  \n",
       "100004                       B23        B33                   0  \n",
       "100005                       B21        B33                   1  "
      ]
     },
     "execution_count": 18,
     "metadata": {},
     "output_type": "execute_result"
    }
   ],
   "source": [
    "NN_data.head()"
   ]
  },
  {
   "cell_type": "code",
   "execution_count": 19,
   "metadata": {},
   "outputs": [],
   "source": [
    "NN_data = pd.get_dummies(NN_data, prefix=['Purposre_Credit_Taken', 'Years_At_Present_Employment',\n",
    "       'Other_Debtors_Guarantors', 'Housing', 'Duration_binned', \n",
    "       'Credit_amount_binned', 'Age_binned'])"
   ]
  },
  {
   "cell_type": "code",
   "execution_count": 20,
   "metadata": {},
   "outputs": [
    {
     "data": {
      "text/html": [
       "<div>\n",
       "<style scoped>\n",
       "    .dataframe tbody tr th:only-of-type {\n",
       "        vertical-align: middle;\n",
       "    }\n",
       "\n",
       "    .dataframe tbody tr th {\n",
       "        vertical-align: top;\n",
       "    }\n",
       "\n",
       "    .dataframe thead th {\n",
       "        text-align: right;\n",
       "    }\n",
       "</style>\n",
       "<table border=\"1\" class=\"dataframe\">\n",
       "  <thead>\n",
       "    <tr style=\"text-align: right;\">\n",
       "      <th></th>\n",
       "      <th>Default_On_Payment</th>\n",
       "      <th>Purposre_Credit_Taken_A40</th>\n",
       "      <th>Purposre_Credit_Taken_A41</th>\n",
       "      <th>Purposre_Credit_Taken_A410</th>\n",
       "      <th>Purposre_Credit_Taken_A42</th>\n",
       "      <th>Purposre_Credit_Taken_A43</th>\n",
       "      <th>Purposre_Credit_Taken_A44</th>\n",
       "      <th>Purposre_Credit_Taken_A45</th>\n",
       "      <th>Purposre_Credit_Taken_A46</th>\n",
       "      <th>Purposre_Credit_Taken_A48</th>\n",
       "      <th>...</th>\n",
       "      <th>Credit_amount_binned_B24</th>\n",
       "      <th>Credit_amount_binned_B25</th>\n",
       "      <th>Credit_amount_binned_B26</th>\n",
       "      <th>Credit_amount_binned_B27</th>\n",
       "      <th>Age_binned_B30</th>\n",
       "      <th>Age_binned_B31</th>\n",
       "      <th>Age_binned_B32</th>\n",
       "      <th>Age_binned_B33</th>\n",
       "      <th>Age_binned_B34</th>\n",
       "      <th>Age_binned_B35</th>\n",
       "    </tr>\n",
       "    <tr>\n",
       "      <th>Customer_ID</th>\n",
       "      <th></th>\n",
       "      <th></th>\n",
       "      <th></th>\n",
       "      <th></th>\n",
       "      <th></th>\n",
       "      <th></th>\n",
       "      <th></th>\n",
       "      <th></th>\n",
       "      <th></th>\n",
       "      <th></th>\n",
       "      <th></th>\n",
       "      <th></th>\n",
       "      <th></th>\n",
       "      <th></th>\n",
       "      <th></th>\n",
       "      <th></th>\n",
       "      <th></th>\n",
       "      <th></th>\n",
       "      <th></th>\n",
       "      <th></th>\n",
       "      <th></th>\n",
       "    </tr>\n",
       "  </thead>\n",
       "  <tbody>\n",
       "    <tr>\n",
       "      <td>100001</td>\n",
       "      <td>0</td>\n",
       "      <td>0</td>\n",
       "      <td>0</td>\n",
       "      <td>0</td>\n",
       "      <td>0</td>\n",
       "      <td>1</td>\n",
       "      <td>0</td>\n",
       "      <td>0</td>\n",
       "      <td>0</td>\n",
       "      <td>0</td>\n",
       "      <td>...</td>\n",
       "      <td>0</td>\n",
       "      <td>0</td>\n",
       "      <td>0</td>\n",
       "      <td>0</td>\n",
       "      <td>0</td>\n",
       "      <td>0</td>\n",
       "      <td>0</td>\n",
       "      <td>0</td>\n",
       "      <td>0</td>\n",
       "      <td>1</td>\n",
       "    </tr>\n",
       "    <tr>\n",
       "      <td>100002</td>\n",
       "      <td>0</td>\n",
       "      <td>0</td>\n",
       "      <td>0</td>\n",
       "      <td>0</td>\n",
       "      <td>0</td>\n",
       "      <td>1</td>\n",
       "      <td>0</td>\n",
       "      <td>0</td>\n",
       "      <td>0</td>\n",
       "      <td>0</td>\n",
       "      <td>...</td>\n",
       "      <td>0</td>\n",
       "      <td>0</td>\n",
       "      <td>0</td>\n",
       "      <td>0</td>\n",
       "      <td>1</td>\n",
       "      <td>0</td>\n",
       "      <td>0</td>\n",
       "      <td>0</td>\n",
       "      <td>0</td>\n",
       "      <td>0</td>\n",
       "    </tr>\n",
       "    <tr>\n",
       "      <td>100003</td>\n",
       "      <td>0</td>\n",
       "      <td>0</td>\n",
       "      <td>0</td>\n",
       "      <td>0</td>\n",
       "      <td>0</td>\n",
       "      <td>0</td>\n",
       "      <td>0</td>\n",
       "      <td>0</td>\n",
       "      <td>1</td>\n",
       "      <td>0</td>\n",
       "      <td>...</td>\n",
       "      <td>0</td>\n",
       "      <td>0</td>\n",
       "      <td>0</td>\n",
       "      <td>0</td>\n",
       "      <td>0</td>\n",
       "      <td>0</td>\n",
       "      <td>0</td>\n",
       "      <td>1</td>\n",
       "      <td>0</td>\n",
       "      <td>0</td>\n",
       "    </tr>\n",
       "    <tr>\n",
       "      <td>100004</td>\n",
       "      <td>0</td>\n",
       "      <td>0</td>\n",
       "      <td>0</td>\n",
       "      <td>0</td>\n",
       "      <td>1</td>\n",
       "      <td>0</td>\n",
       "      <td>0</td>\n",
       "      <td>0</td>\n",
       "      <td>0</td>\n",
       "      <td>0</td>\n",
       "      <td>...</td>\n",
       "      <td>0</td>\n",
       "      <td>0</td>\n",
       "      <td>0</td>\n",
       "      <td>0</td>\n",
       "      <td>0</td>\n",
       "      <td>0</td>\n",
       "      <td>0</td>\n",
       "      <td>1</td>\n",
       "      <td>0</td>\n",
       "      <td>0</td>\n",
       "    </tr>\n",
       "    <tr>\n",
       "      <td>100005</td>\n",
       "      <td>1</td>\n",
       "      <td>1</td>\n",
       "      <td>0</td>\n",
       "      <td>0</td>\n",
       "      <td>0</td>\n",
       "      <td>0</td>\n",
       "      <td>0</td>\n",
       "      <td>0</td>\n",
       "      <td>0</td>\n",
       "      <td>0</td>\n",
       "      <td>...</td>\n",
       "      <td>0</td>\n",
       "      <td>0</td>\n",
       "      <td>0</td>\n",
       "      <td>0</td>\n",
       "      <td>0</td>\n",
       "      <td>0</td>\n",
       "      <td>0</td>\n",
       "      <td>1</td>\n",
       "      <td>0</td>\n",
       "      <td>0</td>\n",
       "    </tr>\n",
       "    <tr>\n",
       "      <td>...</td>\n",
       "      <td>...</td>\n",
       "      <td>...</td>\n",
       "      <td>...</td>\n",
       "      <td>...</td>\n",
       "      <td>...</td>\n",
       "      <td>...</td>\n",
       "      <td>...</td>\n",
       "      <td>...</td>\n",
       "      <td>...</td>\n",
       "      <td>...</td>\n",
       "      <td>...</td>\n",
       "      <td>...</td>\n",
       "      <td>...</td>\n",
       "      <td>...</td>\n",
       "      <td>...</td>\n",
       "      <td>...</td>\n",
       "      <td>...</td>\n",
       "      <td>...</td>\n",
       "      <td>...</td>\n",
       "      <td>...</td>\n",
       "      <td>...</td>\n",
       "    </tr>\n",
       "    <tr>\n",
       "      <td>104996</td>\n",
       "      <td>0</td>\n",
       "      <td>0</td>\n",
       "      <td>0</td>\n",
       "      <td>0</td>\n",
       "      <td>1</td>\n",
       "      <td>0</td>\n",
       "      <td>0</td>\n",
       "      <td>0</td>\n",
       "      <td>0</td>\n",
       "      <td>0</td>\n",
       "      <td>...</td>\n",
       "      <td>0</td>\n",
       "      <td>0</td>\n",
       "      <td>0</td>\n",
       "      <td>0</td>\n",
       "      <td>0</td>\n",
       "      <td>1</td>\n",
       "      <td>0</td>\n",
       "      <td>0</td>\n",
       "      <td>0</td>\n",
       "      <td>0</td>\n",
       "    </tr>\n",
       "    <tr>\n",
       "      <td>104997</td>\n",
       "      <td>0</td>\n",
       "      <td>0</td>\n",
       "      <td>1</td>\n",
       "      <td>0</td>\n",
       "      <td>0</td>\n",
       "      <td>0</td>\n",
       "      <td>0</td>\n",
       "      <td>0</td>\n",
       "      <td>0</td>\n",
       "      <td>0</td>\n",
       "      <td>...</td>\n",
       "      <td>0</td>\n",
       "      <td>0</td>\n",
       "      <td>0</td>\n",
       "      <td>0</td>\n",
       "      <td>0</td>\n",
       "      <td>0</td>\n",
       "      <td>1</td>\n",
       "      <td>0</td>\n",
       "      <td>0</td>\n",
       "      <td>0</td>\n",
       "    </tr>\n",
       "    <tr>\n",
       "      <td>104998</td>\n",
       "      <td>0</td>\n",
       "      <td>0</td>\n",
       "      <td>0</td>\n",
       "      <td>0</td>\n",
       "      <td>0</td>\n",
       "      <td>1</td>\n",
       "      <td>0</td>\n",
       "      <td>0</td>\n",
       "      <td>0</td>\n",
       "      <td>0</td>\n",
       "      <td>...</td>\n",
       "      <td>0</td>\n",
       "      <td>0</td>\n",
       "      <td>0</td>\n",
       "      <td>0</td>\n",
       "      <td>0</td>\n",
       "      <td>0</td>\n",
       "      <td>1</td>\n",
       "      <td>0</td>\n",
       "      <td>0</td>\n",
       "      <td>0</td>\n",
       "    </tr>\n",
       "    <tr>\n",
       "      <td>104999</td>\n",
       "      <td>1</td>\n",
       "      <td>0</td>\n",
       "      <td>0</td>\n",
       "      <td>0</td>\n",
       "      <td>0</td>\n",
       "      <td>1</td>\n",
       "      <td>0</td>\n",
       "      <td>0</td>\n",
       "      <td>0</td>\n",
       "      <td>0</td>\n",
       "      <td>...</td>\n",
       "      <td>0</td>\n",
       "      <td>0</td>\n",
       "      <td>0</td>\n",
       "      <td>0</td>\n",
       "      <td>1</td>\n",
       "      <td>0</td>\n",
       "      <td>0</td>\n",
       "      <td>0</td>\n",
       "      <td>0</td>\n",
       "      <td>0</td>\n",
       "    </tr>\n",
       "    <tr>\n",
       "      <td>105000</td>\n",
       "      <td>0</td>\n",
       "      <td>0</td>\n",
       "      <td>1</td>\n",
       "      <td>0</td>\n",
       "      <td>0</td>\n",
       "      <td>0</td>\n",
       "      <td>0</td>\n",
       "      <td>0</td>\n",
       "      <td>0</td>\n",
       "      <td>0</td>\n",
       "      <td>...</td>\n",
       "      <td>0</td>\n",
       "      <td>0</td>\n",
       "      <td>0</td>\n",
       "      <td>0</td>\n",
       "      <td>0</td>\n",
       "      <td>1</td>\n",
       "      <td>0</td>\n",
       "      <td>0</td>\n",
       "      <td>0</td>\n",
       "      <td>0</td>\n",
       "    </tr>\n",
       "  </tbody>\n",
       "</table>\n",
       "<p>5000 rows × 42 columns</p>\n",
       "</div>"
      ],
      "text/plain": [
       "             Default_On_Payment  Purposre_Credit_Taken_A40  \\\n",
       "Customer_ID                                                  \n",
       "100001                        0                          0   \n",
       "100002                        0                          0   \n",
       "100003                        0                          0   \n",
       "100004                        0                          0   \n",
       "100005                        1                          1   \n",
       "...                         ...                        ...   \n",
       "104996                        0                          0   \n",
       "104997                        0                          0   \n",
       "104998                        0                          0   \n",
       "104999                        1                          0   \n",
       "105000                        0                          0   \n",
       "\n",
       "             Purposre_Credit_Taken_A41  Purposre_Credit_Taken_A410  \\\n",
       "Customer_ID                                                          \n",
       "100001                               0                           0   \n",
       "100002                               0                           0   \n",
       "100003                               0                           0   \n",
       "100004                               0                           0   \n",
       "100005                               0                           0   \n",
       "...                                ...                         ...   \n",
       "104996                               0                           0   \n",
       "104997                               1                           0   \n",
       "104998                               0                           0   \n",
       "104999                               0                           0   \n",
       "105000                               1                           0   \n",
       "\n",
       "             Purposre_Credit_Taken_A42  Purposre_Credit_Taken_A43  \\\n",
       "Customer_ID                                                         \n",
       "100001                               0                          1   \n",
       "100002                               0                          1   \n",
       "100003                               0                          0   \n",
       "100004                               1                          0   \n",
       "100005                               0                          0   \n",
       "...                                ...                        ...   \n",
       "104996                               1                          0   \n",
       "104997                               0                          0   \n",
       "104998                               0                          1   \n",
       "104999                               0                          1   \n",
       "105000                               0                          0   \n",
       "\n",
       "             Purposre_Credit_Taken_A44  Purposre_Credit_Taken_A45  \\\n",
       "Customer_ID                                                         \n",
       "100001                               0                          0   \n",
       "100002                               0                          0   \n",
       "100003                               0                          0   \n",
       "100004                               0                          0   \n",
       "100005                               0                          0   \n",
       "...                                ...                        ...   \n",
       "104996                               0                          0   \n",
       "104997                               0                          0   \n",
       "104998                               0                          0   \n",
       "104999                               0                          0   \n",
       "105000                               0                          0   \n",
       "\n",
       "             Purposre_Credit_Taken_A46  Purposre_Credit_Taken_A48  ...  \\\n",
       "Customer_ID                                                        ...   \n",
       "100001                               0                          0  ...   \n",
       "100002                               0                          0  ...   \n",
       "100003                               1                          0  ...   \n",
       "100004                               0                          0  ...   \n",
       "100005                               0                          0  ...   \n",
       "...                                ...                        ...  ...   \n",
       "104996                               0                          0  ...   \n",
       "104997                               0                          0  ...   \n",
       "104998                               0                          0  ...   \n",
       "104999                               0                          0  ...   \n",
       "105000                               0                          0  ...   \n",
       "\n",
       "             Credit_amount_binned_B24  Credit_amount_binned_B25  \\\n",
       "Customer_ID                                                       \n",
       "100001                              0                         0   \n",
       "100002                              0                         0   \n",
       "100003                              0                         0   \n",
       "100004                              0                         0   \n",
       "100005                              0                         0   \n",
       "...                               ...                       ...   \n",
       "104996                              0                         0   \n",
       "104997                              0                         0   \n",
       "104998                              0                         0   \n",
       "104999                              0                         0   \n",
       "105000                              0                         0   \n",
       "\n",
       "             Credit_amount_binned_B26  Credit_amount_binned_B27  \\\n",
       "Customer_ID                                                       \n",
       "100001                              0                         0   \n",
       "100002                              0                         0   \n",
       "100003                              0                         0   \n",
       "100004                              0                         0   \n",
       "100005                              0                         0   \n",
       "...                               ...                       ...   \n",
       "104996                              0                         0   \n",
       "104997                              0                         0   \n",
       "104998                              0                         0   \n",
       "104999                              0                         0   \n",
       "105000                              0                         0   \n",
       "\n",
       "             Age_binned_B30  Age_binned_B31  Age_binned_B32  Age_binned_B33  \\\n",
       "Customer_ID                                                                   \n",
       "100001                    0               0               0               0   \n",
       "100002                    1               0               0               0   \n",
       "100003                    0               0               0               1   \n",
       "100004                    0               0               0               1   \n",
       "100005                    0               0               0               1   \n",
       "...                     ...             ...             ...             ...   \n",
       "104996                    0               1               0               0   \n",
       "104997                    0               0               1               0   \n",
       "104998                    0               0               1               0   \n",
       "104999                    1               0               0               0   \n",
       "105000                    0               1               0               0   \n",
       "\n",
       "             Age_binned_B34  Age_binned_B35  \n",
       "Customer_ID                                  \n",
       "100001                    0               1  \n",
       "100002                    0               0  \n",
       "100003                    0               0  \n",
       "100004                    0               0  \n",
       "100005                    0               0  \n",
       "...                     ...             ...  \n",
       "104996                    0               0  \n",
       "104997                    0               0  \n",
       "104998                    0               0  \n",
       "104999                    0               0  \n",
       "105000                    0               0  \n",
       "\n",
       "[5000 rows x 42 columns]"
      ]
     },
     "execution_count": 20,
     "metadata": {},
     "output_type": "execute_result"
    }
   ],
   "source": [
    "NN_data"
   ]
  },
  {
   "cell_type": "code",
   "execution_count": 21,
   "metadata": {},
   "outputs": [],
   "source": [
    "data = NN_data.values\n",
    "X = data[:, 1:77]\n",
    "y = data[:, 0]"
   ]
  },
  {
   "cell_type": "code",
   "execution_count": 22,
   "metadata": {},
   "outputs": [
    {
     "data": {
      "text/plain": [
       "((5000, 41), (5000,))"
      ]
     },
     "execution_count": 22,
     "metadata": {},
     "output_type": "execute_result"
    }
   ],
   "source": [
    "X.shape, y.shape"
   ]
  },
  {
   "cell_type": "code",
   "execution_count": 23,
   "metadata": {},
   "outputs": [
    {
     "data": {
      "text/plain": [
       "array([0, 0, 0, 0, 1, 0, 0, 0, 0, 0, 0, 0, 0, 0, 1, 1, 0, 0, 0, 1, 0, 1,\n",
       "       0, 0, 0, 0, 0, 1, 0, 0, 0, 0, 0, 0, 0, 0, 0, 0, 0, 0, 1],\n",
       "      dtype=int64)"
      ]
     },
     "execution_count": 23,
     "metadata": {},
     "output_type": "execute_result"
    }
   ],
   "source": [
    "X[0]"
   ]
  },
  {
   "cell_type": "code",
   "execution_count": 24,
   "metadata": {},
   "outputs": [
    {
     "data": {
      "text/plain": [
       "array([[1., 0.],\n",
       "       [1., 0.],\n",
       "       [1., 0.],\n",
       "       ...,\n",
       "       [1., 0.],\n",
       "       [0., 1.],\n",
       "       [1., 0.]], dtype=float32)"
      ]
     },
     "execution_count": 24,
     "metadata": {},
     "output_type": "execute_result"
    }
   ],
   "source": [
    "# one-hot encode y (y data is already label encoded)\n",
    "one_hot_y = to_categorical(y)\n",
    "one_hot_y"
   ]
  },
  {
   "cell_type": "code",
   "execution_count": 25,
   "metadata": {},
   "outputs": [
    {
     "data": {
      "text/plain": [
       "array([1., 0.], dtype=float32)"
      ]
     },
     "execution_count": 25,
     "metadata": {},
     "output_type": "execute_result"
    }
   ],
   "source": [
    "one_hot_y[0]"
   ]
  },
  {
   "cell_type": "code",
   "execution_count": 26,
   "metadata": {},
   "outputs": [],
   "source": [
    "#split data to train and test\n",
    "from sklearn.model_selection import train_test_split\n",
    "\n",
    "X_train, X_test, y_train, y_test = train_test_split(X, one_hot_y, random_state=1)"
   ]
  },
  {
   "cell_type": "code",
   "execution_count": 27,
   "metadata": {},
   "outputs": [
    {
     "data": {
      "text/plain": [
       "((3750, 41), (1250, 41), (3750, 2), (1250, 2))"
      ]
     },
     "execution_count": 27,
     "metadata": {},
     "output_type": "execute_result"
    }
   ],
   "source": [
    "X_train.shape, X_test.shape, y_train.shape, y_test.shape"
   ]
  },
  {
   "cell_type": "code",
   "execution_count": 28,
   "metadata": {},
   "outputs": [
    {
     "name": "stdout",
     "output_type": "stream",
     "text": [
      "WARNING:tensorflow:From C:\\Users\\cgilb\\Anaconda3\\envs\\PythonData\\lib\\site-packages\\tensorflow\\python\\ops\\init_ops.py:1251: calling VarianceScaling.__init__ (from tensorflow.python.ops.init_ops) with dtype is deprecated and will be removed in a future version.\n",
      "Instructions for updating:\n",
      "Call initializer instance with the dtype argument instead of passing it to the constructor\n"
     ]
    }
   ],
   "source": [
    "# create basic single hidden layer model to test (ignore future version warning)\n",
    "from tensorflow.keras.models import Sequential\n",
    "from tensorflow.keras.layers import Dense\n",
    "\n",
    "model_TEST = Sequential()\n",
    "model_TEST.add(Dense(units=51, activation='relu', input_dim=41))\n",
    "model_TEST.add(Dense(units=51, activation='relu'))\n",
    "model_TEST.add(Dense(units=51, activation='relu'))\n",
    "model_TEST.add(Dense(units=2, activation='softmax'))"
   ]
  },
  {
   "cell_type": "code",
   "execution_count": 29,
   "metadata": {
    "scrolled": true
   },
   "outputs": [
    {
     "name": "stdout",
     "output_type": "stream",
     "text": [
      "Model: \"sequential\"\n",
      "_________________________________________________________________\n",
      "Layer (type)                 Output Shape              Param #   \n",
      "=================================================================\n",
      "dense (Dense)                (None, 51)                2142      \n",
      "_________________________________________________________________\n",
      "dense_1 (Dense)              (None, 51)                2652      \n",
      "_________________________________________________________________\n",
      "dense_2 (Dense)              (None, 51)                2652      \n",
      "_________________________________________________________________\n",
      "dense_3 (Dense)              (None, 2)                 104       \n",
      "=================================================================\n",
      "Total params: 7,550\n",
      "Trainable params: 7,550\n",
      "Non-trainable params: 0\n",
      "_________________________________________________________________\n"
     ]
    }
   ],
   "source": [
    "model_TEST.summary()"
   ]
  },
  {
   "cell_type": "code",
   "execution_count": 30,
   "metadata": {},
   "outputs": [],
   "source": [
    "# Compile the model\n",
    "model_TEST.compile(optimizer='adam',\n",
    "              loss='binary_crossentropy',\n",
    "              metrics=['accuracy'])"
   ]
  },
  {
   "cell_type": "code",
   "execution_count": 31,
   "metadata": {},
   "outputs": [
    {
     "name": "stdout",
     "output_type": "stream",
     "text": [
      "WARNING:tensorflow:From C:\\Users\\cgilb\\Anaconda3\\envs\\PythonData\\lib\\site-packages\\tensorflow\\python\\ops\\math_grad.py:1250: add_dispatch_support.<locals>.wrapper (from tensorflow.python.ops.array_ops) is deprecated and will be removed in a future version.\n",
      "Instructions for updating:\n",
      "Use tf.where in 2.0, which has the same broadcast rule as np.where\n",
      "Epoch 1/100\n",
      "3750/3750 - 0s - loss: 0.5818 - acc: 0.6944\n",
      "Epoch 2/100\n",
      "3750/3750 - 0s - loss: 0.5055 - acc: 0.7525\n",
      "Epoch 3/100\n",
      "3750/3750 - 0s - loss: 0.4552 - acc: 0.7795\n",
      "Epoch 4/100\n",
      "3750/3750 - 0s - loss: 0.4028 - acc: 0.8139\n",
      "Epoch 5/100\n",
      "3750/3750 - 0s - loss: 0.3516 - acc: 0.8477\n",
      "Epoch 6/100\n",
      "3750/3750 - 0s - loss: 0.3123 - acc: 0.8707\n",
      "Epoch 7/100\n",
      "3750/3750 - 0s - loss: 0.2786 - acc: 0.8837\n",
      "Epoch 8/100\n",
      "3750/3750 - 0s - loss: 0.2500 - acc: 0.8971\n",
      "Epoch 9/100\n",
      "3750/3750 - 0s - loss: 0.2249 - acc: 0.9067\n",
      "Epoch 10/100\n",
      "3750/3750 - 0s - loss: 0.2146 - acc: 0.9128\n",
      "Epoch 11/100\n",
      "3750/3750 - 0s - loss: 0.2006 - acc: 0.9155\n",
      "Epoch 12/100\n",
      "3750/3750 - 0s - loss: 0.1922 - acc: 0.9197\n",
      "Epoch 13/100\n",
      "3750/3750 - 0s - loss: 0.1869 - acc: 0.9203\n",
      "Epoch 14/100\n",
      "3750/3750 - 0s - loss: 0.1831 - acc: 0.9176\n",
      "Epoch 15/100\n",
      "3750/3750 - 0s - loss: 0.1767 - acc: 0.9216\n",
      "Epoch 16/100\n",
      "3750/3750 - 0s - loss: 0.1756 - acc: 0.9224\n",
      "Epoch 17/100\n",
      "3750/3750 - 0s - loss: 0.1687 - acc: 0.9229\n",
      "Epoch 18/100\n",
      "3750/3750 - 0s - loss: 0.1656 - acc: 0.9227\n",
      "Epoch 19/100\n",
      "3750/3750 - 0s - loss: 0.1674 - acc: 0.9253\n",
      "Epoch 20/100\n",
      "3750/3750 - 0s - loss: 0.1663 - acc: 0.9184\n",
      "Epoch 21/100\n",
      "3750/3750 - 0s - loss: 0.1619 - acc: 0.9264\n",
      "Epoch 22/100\n",
      "3750/3750 - 0s - loss: 0.1618 - acc: 0.9208\n",
      "Epoch 23/100\n",
      "3750/3750 - 0s - loss: 0.1663 - acc: 0.9264\n",
      "Epoch 24/100\n",
      "3750/3750 - 0s - loss: 0.1585 - acc: 0.9248\n",
      "Epoch 25/100\n",
      "3750/3750 - 0s - loss: 0.1529 - acc: 0.9261\n",
      "Epoch 26/100\n",
      "3750/3750 - 0s - loss: 0.1574 - acc: 0.9235\n",
      "Epoch 27/100\n",
      "3750/3750 - 0s - loss: 0.1546 - acc: 0.9245\n",
      "Epoch 28/100\n",
      "3750/3750 - 0s - loss: 0.1586 - acc: 0.9200\n",
      "Epoch 29/100\n",
      "3750/3750 - 0s - loss: 0.1520 - acc: 0.9232\n",
      "Epoch 30/100\n",
      "3750/3750 - 0s - loss: 0.1554 - acc: 0.9219\n",
      "Epoch 31/100\n",
      "3750/3750 - 0s - loss: 0.1515 - acc: 0.9232\n",
      "Epoch 32/100\n",
      "3750/3750 - 0s - loss: 0.1553 - acc: 0.9203\n",
      "Epoch 33/100\n",
      "3750/3750 - 0s - loss: 0.1544 - acc: 0.9261\n",
      "Epoch 34/100\n",
      "3750/3750 - 0s - loss: 0.1514 - acc: 0.9229\n",
      "Epoch 35/100\n",
      "3750/3750 - 0s - loss: 0.1502 - acc: 0.9227\n",
      "Epoch 36/100\n",
      "3750/3750 - 0s - loss: 0.1518 - acc: 0.9221\n",
      "Epoch 37/100\n",
      "3750/3750 - 0s - loss: 0.1505 - acc: 0.9243\n",
      "Epoch 38/100\n",
      "3750/3750 - 0s - loss: 0.1504 - acc: 0.9245\n",
      "Epoch 39/100\n",
      "3750/3750 - 0s - loss: 0.1512 - acc: 0.9245\n",
      "Epoch 40/100\n",
      "3750/3750 - 0s - loss: 0.1511 - acc: 0.9251\n",
      "Epoch 41/100\n",
      "3750/3750 - 0s - loss: 0.1478 - acc: 0.9245\n",
      "Epoch 42/100\n",
      "3750/3750 - 0s - loss: 0.1493 - acc: 0.9259\n",
      "Epoch 43/100\n",
      "3750/3750 - 0s - loss: 0.1506 - acc: 0.9248\n",
      "Epoch 44/100\n",
      "3750/3750 - 0s - loss: 0.1470 - acc: 0.9245\n",
      "Epoch 45/100\n",
      "3750/3750 - 0s - loss: 0.1496 - acc: 0.9205\n",
      "Epoch 46/100\n",
      "3750/3750 - 0s - loss: 0.1476 - acc: 0.9240\n",
      "Epoch 47/100\n",
      "3750/3750 - 0s - loss: 0.1460 - acc: 0.9275\n",
      "Epoch 48/100\n",
      "3750/3750 - 0s - loss: 0.1459 - acc: 0.9256\n",
      "Epoch 49/100\n",
      "3750/3750 - 0s - loss: 0.1471 - acc: 0.9235\n",
      "Epoch 50/100\n",
      "3750/3750 - 0s - loss: 0.1468 - acc: 0.9248\n",
      "Epoch 51/100\n",
      "3750/3750 - 0s - loss: 0.1436 - acc: 0.9272\n",
      "Epoch 52/100\n",
      "3750/3750 - 0s - loss: 0.1441 - acc: 0.9245\n",
      "Epoch 53/100\n",
      "3750/3750 - 0s - loss: 0.1430 - acc: 0.9267\n",
      "Epoch 54/100\n",
      "3750/3750 - 0s - loss: 0.1422 - acc: 0.9272\n",
      "Epoch 55/100\n",
      "3750/3750 - 0s - loss: 0.1426 - acc: 0.9283\n",
      "Epoch 56/100\n",
      "3750/3750 - 0s - loss: 0.1433 - acc: 0.9275\n",
      "Epoch 57/100\n",
      "3750/3750 - 0s - loss: 0.1439 - acc: 0.9275\n",
      "Epoch 58/100\n",
      "3750/3750 - 0s - loss: 0.1411 - acc: 0.9269\n",
      "Epoch 59/100\n",
      "3750/3750 - 0s - loss: 0.1424 - acc: 0.9237\n",
      "Epoch 60/100\n",
      "3750/3750 - 0s - loss: 0.1432 - acc: 0.9285\n",
      "Epoch 61/100\n",
      "3750/3750 - 0s - loss: 0.1430 - acc: 0.9243\n",
      "Epoch 62/100\n",
      "3750/3750 - 0s - loss: 0.1414 - acc: 0.9283\n",
      "Epoch 63/100\n",
      "3750/3750 - 0s - loss: 0.1402 - acc: 0.9296\n",
      "Epoch 64/100\n",
      "3750/3750 - 0s - loss: 0.1392 - acc: 0.9195\n",
      "Epoch 65/100\n",
      "3750/3750 - 0s - loss: 0.1405 - acc: 0.9245\n",
      "Epoch 66/100\n",
      "3750/3750 - 0s - loss: 0.1384 - acc: 0.9264\n",
      "Epoch 67/100\n",
      "3750/3750 - 0s - loss: 0.1390 - acc: 0.9288\n",
      "Epoch 68/100\n",
      "3750/3750 - 0s - loss: 0.1409 - acc: 0.9272\n",
      "Epoch 69/100\n",
      "3750/3750 - 0s - loss: 0.1384 - acc: 0.9309\n",
      "Epoch 70/100\n",
      "3750/3750 - 0s - loss: 0.1399 - acc: 0.9264\n",
      "Epoch 71/100\n",
      "3750/3750 - 0s - loss: 0.1398 - acc: 0.9248\n",
      "Epoch 72/100\n",
      "3750/3750 - 0s - loss: 0.1375 - acc: 0.9264\n",
      "Epoch 73/100\n",
      "3750/3750 - 0s - loss: 0.1384 - acc: 0.9264\n",
      "Epoch 74/100\n",
      "3750/3750 - 0s - loss: 0.1370 - acc: 0.9269\n",
      "Epoch 75/100\n",
      "3750/3750 - 0s - loss: 0.1396 - acc: 0.9277\n",
      "Epoch 76/100\n",
      "3750/3750 - 0s - loss: 0.1469 - acc: 0.9264\n",
      "Epoch 77/100\n",
      "3750/3750 - 0s - loss: 0.1414 - acc: 0.9248\n",
      "Epoch 78/100\n",
      "3750/3750 - 0s - loss: 0.1374 - acc: 0.9267\n",
      "Epoch 79/100\n",
      "3750/3750 - 0s - loss: 0.1372 - acc: 0.9267\n",
      "Epoch 80/100\n",
      "3750/3750 - 0s - loss: 0.1365 - acc: 0.9296\n",
      "Epoch 81/100\n",
      "3750/3750 - 0s - loss: 0.1354 - acc: 0.9259\n",
      "Epoch 82/100\n",
      "3750/3750 - 0s - loss: 0.1355 - acc: 0.9272\n",
      "Epoch 83/100\n",
      "3750/3750 - 0s - loss: 0.1368 - acc: 0.9264\n",
      "Epoch 84/100\n",
      "3750/3750 - 0s - loss: 0.1349 - acc: 0.9267\n",
      "Epoch 85/100\n",
      "3750/3750 - 0s - loss: 0.1359 - acc: 0.9285\n",
      "Epoch 86/100\n",
      "3750/3750 - 0s - loss: 0.1354 - acc: 0.9264\n",
      "Epoch 87/100\n",
      "3750/3750 - 0s - loss: 0.1374 - acc: 0.9304\n",
      "Epoch 88/100\n",
      "3750/3750 - 0s - loss: 0.1357 - acc: 0.9277\n",
      "Epoch 89/100\n",
      "3750/3750 - 0s - loss: 0.1337 - acc: 0.9267\n",
      "Epoch 90/100\n",
      "3750/3750 - 0s - loss: 0.1353 - acc: 0.9261\n",
      "Epoch 91/100\n",
      "3750/3750 - 0s - loss: 0.1356 - acc: 0.9275\n",
      "Epoch 92/100\n",
      "3750/3750 - 0s - loss: 0.1357 - acc: 0.9277\n",
      "Epoch 93/100\n",
      "3750/3750 - 0s - loss: 0.1341 - acc: 0.9275\n",
      "Epoch 94/100\n",
      "3750/3750 - 0s - loss: 0.1345 - acc: 0.9261\n",
      "Epoch 95/100\n",
      "3750/3750 - 0s - loss: 0.1344 - acc: 0.9288\n",
      "Epoch 96/100\n",
      "3750/3750 - 0s - loss: 0.1348 - acc: 0.9285\n",
      "Epoch 97/100\n",
      "3750/3750 - 0s - loss: 0.1343 - acc: 0.9285\n",
      "Epoch 98/100\n",
      "3750/3750 - 0s - loss: 0.1334 - acc: 0.9288\n",
      "Epoch 99/100\n",
      "3750/3750 - 0s - loss: 0.1338 - acc: 0.9304\n",
      "Epoch 100/100\n",
      "3750/3750 - 0s - loss: 0.1324 - acc: 0.9309\n"
     ]
    },
    {
     "data": {
      "text/plain": [
       "<tensorflow.python.keras.callbacks.History at 0x2164f181160>"
      ]
     },
     "execution_count": 31,
     "metadata": {},
     "output_type": "execute_result"
    }
   ],
   "source": [
    "# Fit the model to the training data\n",
    "model_TEST.fit(\n",
    "    X_train,\n",
    "    y_train,\n",
    "    epochs=100,\n",
    "    shuffle=True,\n",
    "    verbose=2\n",
    ")"
   ]
  },
  {
   "cell_type": "code",
   "execution_count": 32,
   "metadata": {},
   "outputs": [
    {
     "name": "stdout",
     "output_type": "stream",
     "text": [
      "1250/1250 - 0s - loss: 0.1397 - acc: 0.9224\n",
      "model_TEST - Loss: 0.13967388846874237, Accuracy: 0.9223999977111816\n"
     ]
    }
   ],
   "source": [
    "model_loss, model_accuracy = model_TEST.evaluate(\n",
    "    X_test, y_test, verbose=2)\n",
    "print(f\"model_TEST - Loss: {model_loss}, Accuracy: {model_accuracy}\")"
   ]
  },
  {
   "cell_type": "code",
   "execution_count": 33,
   "metadata": {},
   "outputs": [
    {
     "name": "stdout",
     "output_type": "stream",
     "text": [
      "              precision    recall  f1-score   support\n",
      "\n",
      "  no-default       0.93      0.96      0.95       901\n",
      "     default       0.90      0.81      0.85       349\n",
      "\n",
      "   micro avg       0.92      0.92      0.92      1250\n",
      "   macro avg       0.91      0.89      0.90      1250\n",
      "weighted avg       0.92      0.92      0.92      1250\n",
      " samples avg       0.92      0.92      0.92      1250\n",
      "\n"
     ]
    }
   ],
   "source": [
    "from sklearn.metrics import classification_report\n",
    "\n",
    "predictions = model_TEST.predict(X_test).round()\n",
    "print(classification_report(y_test, predictions, target_names=[\"no-default\", \"default\"]))\n",
    "                            "
   ]
  },
  {
   "cell_type": "code",
   "execution_count": null,
   "metadata": {},
   "outputs": [],
   "source": []
  },
  {
   "cell_type": "code",
   "execution_count": 63,
   "metadata": {},
   "outputs": [
    {
     "data": {
      "text/plain": [
       "dtype('int64')"
      ]
     },
     "execution_count": 63,
     "metadata": {},
     "output_type": "execute_result"
    }
   ],
   "source": [
    "application_data = NN_data.loc[100001]\n",
    "application_data.dtype"
   ]
  },
  {
   "cell_type": "code",
   "execution_count": null,
   "metadata": {},
   "outputs": [],
   "source": []
  },
  {
   "cell_type": "code",
   "execution_count": null,
   "metadata": {},
   "outputs": [],
   "source": []
  },
  {
   "cell_type": "code",
   "execution_count": 34,
   "metadata": {},
   "outputs": [
    {
     "name": "stdout",
     "output_type": "stream",
     "text": [
      "[[1. 0.]] [1. 0.]\n"
     ]
    }
   ],
   "source": [
    "solo_test = np.expand_dims(X_test[0], axis=0)\n",
    "prediction = model_TEST.predict(solo_test).round()\n",
    "actual = y_test[0]\n",
    "\n",
    "print(prediction, actual)"
   ]
  },
  {
   "cell_type": "code",
   "execution_count": null,
   "metadata": {},
   "outputs": [],
   "source": []
  },
  {
   "cell_type": "code",
   "execution_count": null,
   "metadata": {},
   "outputs": [],
   "source": []
  },
  {
   "cell_type": "markdown",
   "metadata": {},
   "source": [
    "Precision is the ability of a classifier not to label an instance positive that is actually negative. For each class it is defined as as the ratio of true positives to the sum of true and false positives. Said another way, “for all instances classified positive, what percent was correct?”"
   ]
  },
  {
   "cell_type": "markdown",
   "metadata": {},
   "source": [
    "Recall is the ability of a classifier to find all positive instances. For each class it is defined as the ratio of true positives to the sum of true positives and false negatives. Said another way, “for all instances that were actually positive, what percent was classified correctly?”"
   ]
  },
  {
   "cell_type": "markdown",
   "metadata": {},
   "source": [
    "The F1 score is a weighted harmonic mean of precision and recall such that the best score is 1.0 and the worst is 0.0. Generally speaking, F1 scores are lower than accuracy measures as they embed precision and recall into their computation. As a rule of thumb, the weighted average of F1 should be used to compare classifier models, not global accuracy."
   ]
  },
  {
   "cell_type": "markdown",
   "metadata": {},
   "source": [
    "Support is the number of actual occurrences of the class in the specified dataset. Imbalanced support in the training data may indicate structural weaknesses in the reported scores of the classifier and could indicate the need for stratified sampling or rebalancing. Support doesn’t change between models but instead diagnoses the evaluation process."
   ]
  }
 ],
 "metadata": {
  "kernelspec": {
   "display_name": "Python [conda env:PythonData] *",
   "language": "python",
   "name": "conda-env-PythonData-py"
  },
  "language_info": {
   "codemirror_mode": {
    "name": "ipython",
    "version": 3
   },
   "file_extension": ".py",
   "mimetype": "text/x-python",
   "name": "python",
   "nbconvert_exporter": "python",
   "pygments_lexer": "ipython3",
   "version": "3.6.9"
  }
 },
 "nbformat": 4,
 "nbformat_minor": 2
}
